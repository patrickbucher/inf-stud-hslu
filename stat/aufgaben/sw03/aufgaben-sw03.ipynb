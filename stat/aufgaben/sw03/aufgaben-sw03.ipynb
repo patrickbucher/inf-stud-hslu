{
 "cells": [
  {
   "cell_type": "markdown",
   "metadata": {},
   "source": [
    "# 3.1\n",
    "\n",
    "$ f(x) = cx(15-\\frac{x}{4})$ für $0 \\leq x \\leq 60 $\n",
    "\n",
    "## a)\n",
    "\n",
    "$ cx(15 - \\frac{x}{4}) = 15cx - \\frac{1}{4}cx^2 = c(15x - \\frac{1}{4}x^2) $\n",
    "\n",
    "$ 1 = c \\int_{0}^{60} 15x - \\frac{1}{4}x^2 = c[\\frac{15}{2}x^2 - \\frac{1}{12}x^3]_{0}^{60} = c(\\frac{15}{2}60^2 - \\frac{1}{12}60^3) = 9000c \\Leftrightarrow \\underline{\\underline{c = \\frac{1}{9000}}} $\n",
    "\n",
    "Integral mit Python von $\\frac{1}{c}=\\int_0^{60}x(15-\\frac{x}{4})$:"
   ]
  },
  {
   "cell_type": "code",
   "execution_count": 2,
   "metadata": {},
   "outputs": [
    {
     "name": "stdout",
     "output_type": "stream",
     "text": [
      "1/c=9000.000\n"
     ]
    }
   ],
   "source": [
    "from scipy.integrate import quad\n",
    "\n",
    "f = lambda x: x * (15 - x/4)\n",
    "ans, _ = quad(f, 0, 60)\n",
    "print('1/c={:.3f}'.format(ans))"
   ]
  },
  {
   "cell_type": "markdown",
   "metadata": {},
   "source": [
    "## b)\n",
    "\n",
    "$ F(X) = 0 $ für $ X < 0 $\n",
    "\n",
    "$ F(X) = \\frac{1}{9000}(\\frac{15}{2}X^2 - \\frac{1}{12}X^3) $ für $ 0 \\leq X \\leq 60 $\n",
    "\n",
    "$ F(X) = 1 $ für $ X > 60 $"
   ]
  },
  {
   "cell_type": "markdown",
   "metadata": {},
   "source": [
    "## c)\n",
    "\n",
    "$ F(X) = 0.9 = \\frac{1}{9000}(\\frac{15}{2}X^2 - \\frac{1}{12}X^3) = \\frac{15X^3}{18000}-\\frac{X^3}{108'000} = \\frac{90X^2 - X^3}{108'000} \\Leftrightarrow 97'200 = X^2(90-X) $\n",
    "\n",
    "Gleichung mit Python (nach $0$ auflölsen):\n",
    "\n",
    "$$ 0 = \\frac{1}{9000}\\Big(\\frac{15}{2}x^2 - \\frac{1}{12}x^3\\Big) - 0.9 $$"
   ]
  },
  {
   "cell_type": "code",
   "execution_count": 10,
   "metadata": {},
   "outputs": [
    {
     "data": {
      "text/plain": [
       "[-28.6249720273366 - 0.e-22*I,\n",
       " 48.2519936604545 + 0.e-19*I,\n",
       " 70.3729783668821 + 0.e-19*I]"
      ]
     },
     "execution_count": 10,
     "metadata": {},
     "output_type": "execute_result"
    }
   ],
   "source": [
    "from sympy.solvers import solve\n",
    "from sympy import Symbol\n",
    "\n",
    "x = Symbol('x')\n",
    "solve(1/9000*(15/2 * x**2 - 1/12 * x**3) - 0.9, x)"
   ]
  },
  {
   "cell_type": "markdown",
   "metadata": {},
   "source": [
    "$ x_1 = -28.625, \\underline{\\underline{x_2=48.252}}, x_3=70.373 $"
   ]
  },
  {
   "cell_type": "markdown",
   "metadata": {},
   "source": [
    "## d)\n",
    "\n",
    "$$ \\underline{\\underline{E(X)}} = \\int_{-\\infty}^{\\infty} x \\cdot f(x) \\mathcal{d}x = \\frac{1}{9000} \\int_{0}^{60} x^2(15-\\frac{x}{4}) \\mathcal{d}x = \\frac{1}{9000} \\int_{0}^{60}(15x^2 - \\frac{1}{4}x^3) \\mathcal{d}x = \\frac{1}{9000}\\big[ \\frac{15}{3}x^3 - \\frac{1}{16}x^4 \\big]_{0}^{60} = \\frac{1}{9000}(5\\cdot60^3 - \\frac{60^4}{16}) = \\underline{\\underline{30}} $$\n",
    "\n",
    "30 entspricht dem Mittelpunkt der symmetrischen Gerade.\n",
    "\n",
    "Lösung mit Python:"
   ]
  },
  {
   "cell_type": "code",
   "execution_count": 17,
   "metadata": {},
   "outputs": [
    {
     "name": "stdout",
     "output_type": "stream",
     "text": [
      "30\n"
     ]
    }
   ],
   "source": [
    "from scipy.integrate import quad\n",
    "\n",
    "f = lambda x: x**2 * (15-x/4)\n",
    "c = 1/9000\n",
    "\n",
    "ans, _ = quad(f, 0, 60)\n",
    "print(round(ans * c))"
   ]
  },
  {
   "cell_type": "markdown",
   "metadata": {},
   "source": [
    "# 3.2\n",
    "\n",
    "$ X $ in $ [0;20] $ Wochen\n",
    "\n",
    "## a)\n",
    "\n",
    "Fläche muss 1 ergeben!\n",
    "\n",
    "$ 1 = 20 \\cdot c \\cdot \\frac{1}{2} \\Leftrightarrow 1 = 10c \\Leftrightarrow \\underline{c = \\frac{1}{10} = 0.1} $\n",
    "\n",
    "$ \\underline{\\underline{f(x) = \\frac{1}{10}(1-\\frac{x}{20})}} $ für $ 0 \\leq x \\leq 20 $\n",
    "\n",
    "$ 0 $ für $ x < 0 $ und $ x > 20 $\n",
    "\n",
    "## b)\n",
    "\n",
    "$ F(x) = \\int \\frac{1}{10} - \\frac{1}{200}x \\mathcal{d}x = \\frac{1}{10}x - \\frac{1}{400}x^2 $\n",
    "\n",
    "$ \\underline{\\underline{P(X < 5)}} = \\big[ \\frac{1}{10}X - \\frac{1}{400}X^2 \\big]_{0}^{5} = \\frac{5}{10} - \\frac{25}{400} = \\frac{200-25}{400} = \\underline{\\underline{\\frac{7}{16}}} $\n",
    "\n",
    "$ \\underline{\\underline{P(X < 10)}} = \\big[ \\frac{1}{10}X - \\frac{1}{400}X^2 \\big]_{0}^{10} = \\frac{10}{10} - \\frac{100}{400} = \\frac{400-100}{400} = \\underline{\\underline{\\frac{3}{4}}} $\n",
    "\n",
    "## c)"
   ]
  },
  {
   "cell_type": "code",
   "execution_count": 8,
   "metadata": {},
   "outputs": [
    {
     "data": {
      "image/png": "[encoded data removed]",
      "text/plain": [
       "<Figure size 1152x576 with 1 Axes>"
      ]
     },
     "metadata": {
      "needs_background": "light"
     },
     "output_type": "display_data"
    }
   ],
   "source": [
    "import numpy as np\n",
    "import matplotlib\n",
    "import matplotlib.pyplot as plt\n",
    "\n",
    "matplotlib.rcParams['figure.figsize'] = [16, 8]\n",
    "\n",
    "def f(x):\n",
    "    return x/10 - x*x/400\n",
    "x = np.linspace(0, 20)\n",
    "y = f(x)\n",
    "\n",
    "plt.plot(x, y)\n",
    "plt.show()"
   ]
  },
  {
   "cell_type": "markdown",
   "metadata": {},
   "source": [
    "## d)\n",
    "\n",
    "$ \\underline{\\underline{E(X)}} = \\int_{-\\infty}^{\\infty} x \\cdot f(x) \\mathcal{d}x = \\int_{0}^{20}x(\\frac{1}{10} - \\frac{1}{200}x) \\mathcal{d}x = \\int_{0}^{20} \\frac{1}{10}x - \\frac{1}{200}x^2 \\mathcal{d}x = \\big[ \\frac{1}{20}x^2 - \\frac{1}{600}x^3 \\big]_{0}^{20} = \\frac{20^2}{20} - \\frac{20^3}{600} = \\underline{\\underline{\\frac{20}{3}}} $\n",
    "\n",
    "$ Var(X) = E(X^2) - E(X)^2 $\n",
    "\n",
    "$ E(X) = \\int_{-\\infty}^{\\infty} x \\cdot f(x) \\mathcal{d}x $\n",
    "\n",
    "$ E(X^2) = \\int_{-\\infty}^{\\infty} x^2 \\cdot f(x) \\mathcal{d}x = \\int_{0}^{20} x^2(\\frac{1}{10} - \\frac{1}{200}x)\\mathcal{d}x = \\int_{0}^{20} \\frac{1}{10}x^2 - \\frac{1}{200}x^3 \\mathcal{d}x = \\big[ \\frac{1}{30}x^3 - \\frac{1}{800}x^4 \\big]_{0}^{20} = \\underline{\\frac{200}{3}} $\n",
    "\n",
    "$ E(X)^2 = (\\frac{20}{3})^2 = \\underline{\\frac{400}{9}} $\n",
    "\n",
    "$ \\underline{\\underline{Var(X)}} = E(X^2) - E(X)^2 = \\frac{200}{3} - \\frac{400}{9} = \\frac{600-400}{9} = \\underline{\\underline{\\frac{200}{9}}} $\n",
    "\n",
    "$ \\underline{\\underline{\\sigma_X}} = \\sqrt{Var(X)} = \\sqrt{\\frac{200}{9}} = \\frac{\\sqrt{2 \\cdot 100}}{3} = \\frac{10\\sqrt{2}}{3} = \\underline{\\underline{4.71}} $\n",
    "\n",
    "$ F(\\tilde{m}) = \\frac{1}{2} = \\frac{1}{10}x - \\frac{1}{400}x^2 \\Rightarrow \\underline{\\underline{\\tilde{m} = 5.858}} $\n",
    "\n",
    "## e)\n",
    "\n",
    "$ F(X) = \\frac{1}{10}x - \\frac{1}{400}x^2 $\n",
    "\n",
    "$ K(X) = 40'000 \\cdot \\sqrt{X} $\n",
    "\n",
    "$ \\underline{\\underline{P(K \\leq 120'000)}} = P(40'000 \\cdot \\sqrt{X} \\leq 120'000) = P(\\sqrt{X} \\leq 3) = P(X \\leq 9) = F(9) = \\frac{9}{10}-\\frac{81}{400} = \\underline{\\underline{0.6975}} $\n",
    "\n",
    "## f)\n",
    "\n",
    "$ E = \\frac{20}{3} $\n",
    "\n",
    "$ X \\sim Exp(\\lambda) $\n",
    "\n",
    "$ E(X) = \\frac{1}{\\lambda} $\n",
    "\n",
    "$ \\frac{20}{3} = \\frac{1}{\\lambda} \\Leftrightarrow \\underline{\\underline{\\lambda = \\frac{3}{20}}} $\n",
    "\n",
    "## g)\n",
    "\n",
    "$ g(x) = \\lambda e^{-\\lambda x} $\n",
    "\n",
    "$ G(X) = 1 - e^{-\\lambda x} $\n",
    "\n",
    "$ \\lambda = \\frac{3}{20} $\n",
    "\n",
    "$ \\underline{\\underline{G(9)}} = 1-e^{-\\frac{3}{20}9} = \\underline{\\underline{0.74}} $"
   ]
  },
  {
   "cell_type": "markdown",
   "metadata": {},
   "source": [
    "# 3.3\n",
    "\n",
    "$ \\lambda=0.04, X \\sim Exp(\\lambda), F(x) = 1-e^{-\\lambda x} $\n",
    "\n",
    "## a)\n",
    "\n",
    "### Median\n",
    "\n",
    "$ F(t_m) = 1 - e^{-\\lambda t_m} = \\frac{1}{2} | + e^{-\\lambda t_m} $\n",
    "\n",
    "$ 1 = e^{-\\lambda t_m} + \\frac{1}{2} | - \\frac{1}{2} $\n",
    "\n",
    "$ \\frac{1}{2} = e^{-\\lambda t_m} | ln $\n",
    "\n",
    "$ ln(\\frac{1}{2}) = -\\lambda t_m \\Leftrightarrow \\underline{\\underline{t_m}} = \\frac{ln(\\frac{1}{2})}{-\\lambda} = \\frac{ln(0.5)}{-0.04} = \\underline{\\underline{17.3}} $\n",
    "\n",
    "### Erwartungswert\n",
    "\n",
    "$ \\underline{\\underline{E(X)}} = \\frac{1}{\\lambda} = \\frac{1}{0.4} = \\underline{\\underline{25}} $\n",
    "\n",
    "### Wahrscheinlichkeit\n",
    "\n",
    "$ \\underline{\\underline{P(X > 25)}} = 1-F(25) = 1-(1-e^{-25\\lambda}) = e~{-25 \\cdot -0.04} = e^{-1} = \\underline{\\underline{0.368}} $\n",
    "\n",
    "## b)\n",
    "\n",
    "$ \\underline{\\underline{P(0 \\leq T_1 \\leq \\mu+\\sigma)}} = P(0 \\leq T_1 \\leq \\frac{2}{\\lambda}) = F(\\frac{2}{\\lambda}) - F(0) = 1 - e^{\\lambda \\cdot \\frac{2}{\\lambda}} - 0 = 1 - e^{-2} = \\underline{\\underline{0.865}} $\n",
    "\n",
    "## c)\n",
    "\n",
    "aus\n",
    "\n",
    "$ 1 = \\int_{-\\infty}^{\\infty} f_{T_2}(t) \\mathcal{d}t = \\int_{-\\infty}^{\\infty} c_2 \\cdot e^{-\\frac{1}{1000}t} $\n",
    "\n",
    "und\n",
    "\n",
    "$ f(x) = \\lambda \\cdot e^{-\\lambda x} $\n",
    "\n",
    "folgt:\n",
    "\n",
    "$ \\underline{\\underline{c_2}} = \\lambda = \\underline{\\underline{\\frac{1}{1000}}} $\n",
    "\n",
    "$ \\underline{\\underline{E(X) = \\sigma}} = \\frac{1}{\\lambda} = \\frac{1}{\\frac{1}{1000}} = \\underline{\\underline{1000}} $\n",
    "\n",
    "## d)\n",
    "\n",
    "$ \\lambda_1 = 0.04, \\lambda_2 = 0.001 $\n",
    "\n",
    "$ \\underline{\\underline{P(T_1 \\leq 200 \\land T_2 \\leq 200)}} = (1-F_1(200)) \\cdot (1-F_2(200)) = (1-(1-e^{-200 \\lambda_1})) \\cdot (1-(1-e^{-200 \\lambda_2})) = e^{-200 \\lambda_1} \\cdot e^{-200 \\lambda_2} = e^{0.04+0.001} = \\underline{\\underline{0.000275}} $\n",
    "\n",
    "\n",
    "# 3.4\n",
    "\n",
    "$X \\sim N(32, 6²)$\n",
    "\n",
    "## a)"
   ]
  },
  {
   "cell_type": "code",
   "execution_count": 24,
   "metadata": {},
   "outputs": [
    {
     "data": {
      "image/png": "[encoded data removed]",
      "text/plain": [
       "<Figure size 1152x576 with 1 Axes>"
      ]
     },
     "metadata": {
      "needs_background": "light"
     },
     "output_type": "display_data"
    }
   ],
   "source": [
    "import numpy as np\n",
    "from scipy.stats import norm\n",
    "import matplotlib\n",
    "import matplotlib.pyplot as plt\n",
    "\n",
    "matplotlib.rcParams['figure.figsize'] = [16, 8]\n",
    "\n",
    "mean = 32\n",
    "std = 6\n",
    "\n",
    "x = np.linspace(mean - 100, mean + 100)\n",
    "y = norm.pdf(x, loc=mean, scale=std**2)\n",
    "x_select = np.linspace(26, 38)\n",
    "y_select = norm.pdf(x_select, loc=mean, scale=std**2)\n",
    "plt.plot(x, y)\n",
    "plt.fill_between(x_select, y_select, alpha=0.5)\n",
    "plt.show()"
   ]
  },
  {
   "cell_type": "markdown",
   "metadata": {},
   "source": [
    "## b)"
   ]
  },
  {
   "cell_type": "code",
   "execution_count": 3,
   "metadata": {},
   "outputs": [
    {
     "name": "stdout",
     "output_type": "stream",
     "text": [
      "P(X<=40ppb)=0.9088\n",
      "P(X<=40ppb)=0.9088\n"
     ]
    }
   ],
   "source": [
    "x = 40\n",
    "max_x = norm.cdf(x, loc=mean, scale=std) # X~N(32,6²)\n",
    "print('P(X<={:d}ppb)={:.4f}'.format(x, max_x))\n",
    "\n",
    "# standardized\n",
    "z = (x - mean) / std\n",
    "max_x = norm.cdf(z, loc=0, scale=1) # X~N(0,1)\n",
    "print('P(X<={:d}ppb)={:.4f}'.format(x, max_x))"
   ]
  },
  {
   "cell_type": "markdown",
   "metadata": {},
   "source": [
    "## c)"
   ]
  },
  {
   "cell_type": "code",
   "execution_count": 4,
   "metadata": {},
   "outputs": [
    {
     "name": "stdout",
     "output_type": "stream",
     "text": [
      "P(X<=27ppb)=0.202\n"
     ]
    }
   ],
   "source": [
    "x = 27\n",
    "max_x = norm.cdf(x, loc=mean, scale=std)\n",
    "print('P(X<={:d}ppb)={:.3f}'.format(x, max_x))"
   ]
  },
  {
   "cell_type": "markdown",
   "metadata": {},
   "source": [
    "## d)"
   ]
  },
  {
   "cell_type": "code",
   "execution_count": 5,
   "metadata": {},
   "outputs": [
    {
     "name": "stdout",
     "output_type": "stream",
     "text": [
      "P(X<=43.760)=0.975\n"
     ]
    }
   ],
   "source": [
    "max_x = 0.975 # 97.5%\n",
    "x = norm.ppf(max_x, loc=mean, scale=std)\n",
    "print('P(X<={:.3f})={:.3f}'.format(x, max_x))"
   ]
  },
  {
   "cell_type": "markdown",
   "metadata": {},
   "source": [
    "## e)"
   ]
  },
  {
   "cell_type": "code",
   "execution_count": 6,
   "metadata": {},
   "outputs": [
    {
     "name": "stdout",
     "output_type": "stream",
     "text": [
      "P(X<=24.311)=0.100\n"
     ]
    }
   ],
   "source": [
    "max_x = 0.1 # 10%\n",
    "x = norm.ppf(max_x, loc=mean, scale=std)\n",
    "print('P(X<={:.3f})={:.3f}'.format(x, max_x))"
   ]
  },
  {
   "cell_type": "markdown",
   "metadata": {},
   "source": [
    "## f)"
   ]
  },
  {
   "cell_type": "code",
   "execution_count": 7,
   "metadata": {},
   "outputs": [
    {
     "name": "stdout",
     "output_type": "stream",
     "text": [
      "P(26<X<38)=0.683\n",
      "P(26<X<38)=0.683\n"
     ]
    }
   ],
   "source": [
    "lower_x = 26\n",
    "upper_x = 38\n",
    "p = norm.cdf(upper_x, loc=mean, scale=std) - norm.cdf(lower_x, loc=mean, scale=std)\n",
    "print('P({:d}<X<{:d})={:.3f}'.format(lower_x, upper_x, p))\n",
    "\n",
    "# standardized\n",
    "lower_z = (lower_x - mean) / std\n",
    "upper_z = (upper_x - mean) / std\n",
    "p = norm.cdf(upper_z) - norm.cdf(lower_z)\n",
    "print('P({:d}<X<{:d})={:.3f}'.format(lower_x, upper_x, p))"
   ]
  },
  {
   "cell_type": "markdown",
   "metadata": {},
   "source": [
    "# 3.5\n",
    "\n",
    "$X \\sim N(0, 0.45²), t_1=0.9V$"
   ]
  },
  {
   "cell_type": "code",
   "execution_count": 8,
   "metadata": {},
   "outputs": [],
   "source": [
    "from scipy.stats import norm\n",
    "\n",
    "mean = 0\n",
    "std = 0.45\n",
    "t1 = 0.9"
   ]
  },
  {
   "cell_type": "markdown",
   "metadata": {},
   "source": [
    "## a)"
   ]
  },
  {
   "cell_type": "code",
   "execution_count": 9,
   "metadata": {},
   "outputs": [
    {
     "name": "stdout",
     "output_type": "stream",
     "text": [
      "P(false positive)=0.02275\n"
     ]
    }
   ],
   "source": [
    "# 1 detected but not sended: X > 0.9\n",
    "p = 1 - norm.cdf(t1, loc=mean, scale=std)\n",
    "print('P(false positive)={:.5f}'.format(p))"
   ]
  },
  {
   "cell_type": "markdown",
   "metadata": {},
   "source": [
    "## b)"
   ]
  },
  {
   "cell_type": "code",
   "execution_count": 10,
   "metadata": {},
   "outputs": [
    {
     "name": "stdout",
     "output_type": "stream",
     "text": [
      "99% in [-1.16;1.16]\n"
     ]
    }
   ],
   "source": [
    "p = 0.99\n",
    "lower_x = norm.ppf((1-p)/2, loc=mean, scale=std)\n",
    "upper_x = norm.ppf(p + (1-p)/2, loc=mean, scale=std)\n",
    "print('99% in [{:.2f};{:.2f}]'.format(lower_x, upper_x))"
   ]
  },
  {
   "cell_type": "markdown",
   "metadata": {},
   "source": [
    "## c)\n",
    "\n",
    "$S \\sim N(1.8, 0.45²)$\n",
    "\n",
    "not detected: if not within $\\pm 0.9V$"
   ]
  },
  {
   "cell_type": "code",
   "execution_count": 11,
   "metadata": {},
   "outputs": [
    {
     "name": "stdout",
     "output_type": "stream",
     "text": [
      "P(false negative)=0.02275\n"
     ]
    }
   ],
   "source": [
    "new_mean = 1.8\n",
    "p = norm.cdf(x=t1, loc=new_mean, scale=std)\n",
    "print('P(false negative)={:.5f}'.format(p))"
   ]
  },
  {
   "cell_type": "markdown",
   "metadata": {},
   "source": [
    "# 3.6\n",
    "\n",
    "$X \\sim N(0.2508, 0.0005²), diameter = 0.2500, delta = 0.0015$"
   ]
  },
  {
   "cell_type": "code",
   "execution_count": 12,
   "metadata": {},
   "outputs": [],
   "source": [
    "from scipy.stats import norm\n",
    "\n",
    "mean = 0.2508\n",
    "std = 0.0005\n",
    "diameter = 0.25\n",
    "delta = 0.0015"
   ]
  },
  {
   "cell_type": "markdown",
   "metadata": {},
   "source": [
    "## a)"
   ]
  },
  {
   "cell_type": "code",
   "execution_count": 13,
   "metadata": {},
   "outputs": [
    {
     "name": "stdout",
     "output_type": "stream",
     "text": [
      "P(within indications)=0.91924\n"
     ]
    }
   ],
   "source": [
    "p_upper = norm.cdf(diameter + delta, loc=mean, scale=std)\n",
    "p_lower = norm.cdf(diameter - delta, loc=mean, scale=std)\n",
    "p = p_upper - p_lower\n",
    "print('P(within indications)={:.5f}'.format(p))"
   ]
  },
  {
   "cell_type": "code",
   "execution_count": 14,
   "metadata": {},
   "outputs": [
    {
     "name": "stdout",
     "output_type": "stream",
     "text": [
      "P(within indications)=0.9973\n"
     ]
    }
   ],
   "source": [
    "# 0.2508 is close to 0.25 + 0.0015 (0.2515)\n",
    "# production switches from 0.2508 to 0.2500\n",
    "new_mean = diameter\n",
    "p_upper = norm.cdf(diameter + delta, loc=new_mean, scale=std)\n",
    "p_lower = norm.cdf(diameter - delta, loc=new_mean, scale=std)\n",
    "p = p_upper - p_lower\n",
    "print('P(within indications)={:.4f}'.format(p))"
   ]
  },
  {
   "cell_type": "markdown",
   "metadata": {},
   "source": [
    "# 3.7"
   ]
  },
  {
   "cell_type": "code",
   "execution_count": 33,
   "metadata": {},
   "outputs": [
    {
     "name": "stdout",
     "output_type": "stream",
     "text": [
      "n=     10, pi=4.000000\n",
      "n=    100, pi=3.280000\n",
      "n=   1000, pi=3.152000\n",
      "n=  10000, pi=3.140000\n",
      "n= 100000, pi=3.140520\n",
      "n=1000000, pi=3.140236\n"
     ]
    }
   ],
   "source": [
    "import numpy as np\n",
    "from scipy.stats import uniform\n",
    "\n",
    "for n in [10, 100, 1000, 10_000, 100_000, 1_000_000]:\n",
    "    x = uniform.rvs(size=n, loc=-1, scale=2) # [-1;1]\n",
    "    y = uniform.rvs(size=n, loc=-1, scale=2) # [-1;1]\n",
    "    dist = np.sqrt(x**2 + y**2)\n",
    "    within_dist = np.sum(dist < 1)\n",
    "    pi = 4 * within_dist / n\n",
    "    print('n={:7d}, pi={:.6f}'.format(n, pi))"
   ]
  }
 ],
 "metadata": {
  "kernelspec": {
   "display_name": "Python 3",
   "language": "python",
   "name": "python3"
  },
  "language_info": {
   "codemirror_mode": {
    "name": "ipython",
    "version": 3
   },
   "file_extension": ".py",
   "mimetype": "text/x-python",
   "name": "python",
   "nbconvert_exporter": "python",
   "pygments_lexer": "ipython3",
   "version": "3.7.3"
  }
 },
 "nbformat": 4,
 "nbformat_minor": 2
}
