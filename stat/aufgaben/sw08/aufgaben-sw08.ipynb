{
 "cells": [
  {
   "cell_type": "markdown",
   "metadata": {},
   "source": [
    "# 8.1\n",
    "\n",
    "## a)"
   ]
  },
  {
   "cell_type": "code",
   "execution_count": 1,
   "metadata": {},
   "outputs": [
    {
     "name": "stdout",
     "output_type": "stream",
     "text": [
      "p=0.806\n"
     ]
    }
   ],
   "source": [
    "import numpy as np\n",
    "import scipy.stats as st\n",
    "\n",
    "alpha = 0.05\n",
    "median = 70 # null hypothesis\n",
    "sample = np.array([71, 69, 67, 68, 73, 72, 71, 71, 68, 72, 69, 72])\n",
    "n_positives = sample[sample-median > 0].size\n",
    "n_total = sample.size\n",
    "p = st.binom_test(x=n_positives, n=n_total, p=0.5, alternative=\"less\")\n",
    "print('p={:.3f}'.format(p))"
   ]
  },
  {
   "cell_type": "markdown",
   "metadata": {},
   "source": [
    "Mit einem Signifikanzniveau von $5\\%$ kann die Nullhypothese bei einem p-Wert von $0.806$ nicht verworfen werden. Der Weinhändler betrügt wahrscheinlich nicht.\n",
    "\n",
    "## b)"
   ]
  },
  {
   "cell_type": "code",
   "execution_count": 14,
   "metadata": {},
   "outputs": [
    {
     "name": "stdout",
     "output_type": "stream",
     "text": [
      "p=0.690\n"
     ]
    }
   ],
   "source": [
    "diff = sample - median\n",
    "p = st.wilcoxon(x=diff, correction=True)[1]\n",
    "print('p={:.3f}'.format(p))"
   ]
  },
  {
   "cell_type": "markdown",
   "metadata": {},
   "source": [
    "Beim Wilcoxon-Test fällt der p-Wert mit $0.69$ zwar geringer aus, es reicht aber dennoch nicht, um die Nullhypothese bei einem Signifikanzniveau von $5\\%$ zu verwerfen."
   ]
  },
  {
   "cell_type": "markdown",
   "metadata": {},
   "source": [
    "# 8.2\n",
    "\n",
    "## a)\n",
    "\n",
    "- gepaarte Stichprobe (nicht unabhängig)\n",
    "- einseitiger Test (nur die _vermehrte_ Anhäufung ist von Interesse)\n",
    "- $H_0$: Das Rauchen einer Zigarette führt _nicht_ zur Anhäufung von Blutplättchen.\n",
    "- $H_A$: Das Rauchen einer Zigarette führt zu einer Anhäufung von Blutplättchen.\n",
    "\n",
    "## b)\n",
    "\n",
    "- ungepaarte Stichprobe (unabhängig), es wird ein Herstellungsverfahren (im biologischen Sinn) überprüft\n",
    "    - TODO: In der Löung steht _gepaarte Stichprobe_, hier wird aber nicht die Ausgangspflanze mit der neuen Pflanze verglichen (Vergleich zweier Generationen), sondern es werden jeweils die Pflanzen der neuen Generation miteinander verglichen!\n",
    "- einseitiger Test (es wird auf _mehr_ Lebenskraft bzw. auf eine grössere Höhe geprüft)\n",
    "- $H_0$: Die selbst- und fremdbefruchteten Setzlinge sind im Mittel gleich gross.\n",
    "- $H_A$: Die fremdbefruchteten Setzlinge werden im Mittel grösser als die selbstbefruchteten.\n",
    "\n",
    "## c)\n",
    "\n",
    "- ungepaarte Stichprobe (unabhängig)\n",
    "- zweiseitiger Test (es wird geprüft, _ob_ eine Veränderung eintritt, nicht, ob diese Änderung positiv oder negativ ist)\n",
    "- $H_0$: Das Kalziumgehalt in der Nahrung beeinflusst den systolischen Blutdruck nicht.\n",
    "- $H_A$: Das Kalziumgehalt in der Nahrung beeinflusst den systolischen Blutdruck.\n",
    "\n",
    "## d)\n",
    "\n",
    "- ungepaarte Stichprobe (unabhängig)\n",
    "- zweiseitiger Test (es wird geprüft, ob die beiden Formen von Eisen _unterschiedlich_ gut aufgenommen werden; dies kann besser/mehr oder schlechter/weniger sein)\n",
    "- $H_0$: Die beiden Formen von Eisen $Fe^{2+}$ und $Fe^{3+}$ werden gleich gut aufgenommen.\n",
    "- $H_A$: Die beiden Formen von Eisen $Fe^{2+}$ und $Fe^{3+}$ werden _nicht_ gleich gut aufgenommen."
   ]
  },
  {
   "cell_type": "markdown",
   "metadata": {},
   "source": [
    "# 8.3\n",
    "\n",
    "## a)\n",
    "\n",
    "Es handelt sich um gepaarte Stichproblem: Es wird jeweils das Gleiche auf unterschiedliche Art gemessen.\n",
    "\n",
    "## b)\n",
    "\n",
    "Modell:\n",
    "\n",
    "$$ D_1, ... , D_n \\stackrel{i.i.d}{\\sim} \\mathcal{N}(\\mu, \\sigma^2) $$\n",
    "\n",
    "$ \\sigma $ durch $ \\hat{\\sigma} $ geschätzt\n",
    "\n",
    "Nullhypothese: Die beiden Messgeräte produzieren keine systematisch unterschiedlichen Messwerte. (Schwankungen sind reiner Zufall.)\n",
    "\n",
    "$$ H_0: \\mu_D = \\mu_0 = 0 $$\n",
    "\n",
    "Alternativhypothese: Gerät B misst systematisch grössere Werte:\n",
    "\n",
    "$$ H_A: \\mu_D < \\mu_0 $$\n",
    "\n",
    "Teststatistik: $\\mathcal{t}$-Verteilung mit Freiheitsgrad $8$\n",
    "\n",
    "Verteilung under $H_0$:\n",
    "\n",
    "$$ D \\sim \\mathcal{N}(0, \\sigma_{D}^2) $$\n",
    "\n",
    "Signifikanzniveau:\n",
    "\n",
    "$$ \\alpha=0.05 $$"
   ]
  },
  {
   "cell_type": "code",
   "execution_count": 33,
   "metadata": {},
   "outputs": [
    {
     "name": "stdout",
     "output_type": "stream",
     "text": [
      "[3.843,∞)\n"
     ]
    }
   ],
   "source": [
    "import numpy as np\n",
    "from scipy.stats import t\n",
    "\n",
    "alpha = 0.05\n",
    "sample_a = np.array([120, 265, 157, 187, 219, 288, 156, 205, 163])\n",
    "sample_b = np.array([127, 281, 160, 185, 220, 298, 167, 203, 171])\n",
    "diff = sample_b - sample_a\n",
    "n = diff.size\n",
    "mean = diff.mean()\n",
    "std = diff.std(ddof=1)\n",
    "\n",
    "lower = t.ppf(q=1-alpha, df=n-1, loc=0, scale=std/np.sqrt(n))\n",
    "print('[{:.3f},∞)'.format(lower))"
   ]
  },
  {
   "cell_type": "markdown",
   "metadata": {},
   "source": [
    "Verwerfungsbereich:\n",
    "\n",
    "_Anmerkung_: Die Lösung sieht den Verwerfungsbereich auf der anderen Seite. (Die Differenz $D$ kann als $B-A$ oder $A-B$ berechnet werden.)\n",
    "\n",
    "$$ [3.843,\\infty) $$"
   ]
  },
  {
   "cell_type": "code",
   "execution_count": 37,
   "metadata": {},
   "outputs": [
    {
     "name": "stdout",
     "output_type": "stream",
     "text": [
      "p=0.012\n",
      "μ=5.778\n"
     ]
    }
   ],
   "source": [
    "p = 1 - t.cdf(x=diff.mean(), df=n-1, loc=0, scale=std/np.sqrt(n))\n",
    "print('p={:.3f}'.format(p))\n",
    "print('μ={:.3f}'.format(mean))"
   ]
  },
  {
   "cell_type": "markdown",
   "metadata": {},
   "source": [
    "Testentscheid: $p<\\alpha$ und $\\mu \\in [3.843,\\infty)$: Die Nullhypothese wird verworfen!\n",
    "\n",
    "Interpretation: Messgerät B produziert mit einer hohen Wahrscheinlichkeit grössere Messwerte."
   ]
  },
  {
   "cell_type": "markdown",
   "metadata": {},
   "source": [
    "## c)\n",
    "\n",
    "$$ Z \\sim \\mathcal{Bin}(9,0.5) $$\n",
    "\n",
    "$Z$ ist binomialverteilt: das gleiche Modell wie bei einem Münzwurf. Einmal ist der Messwert per Zufall höher, einmal tiefer, aber bei vielen Messungen werden höhere und tiefere Messwerte praktisch gleich oft auftreten."
   ]
  },
  {
   "cell_type": "markdown",
   "metadata": {},
   "source": [
    "# 8.4\n",
    "\n",
    "$$ \\overline{x}_n=113.4, \\overline{y}_n=106.6, \\hat{\\sigma}_x^2=13.82, \\hat{\\sigma}_y^2=5.16 $$\n",
    "\n",
    "## a)\n",
    "\n",
    "Es handelt sich um eine _ungepaarte Stichprobe_ (obwohl es sich um Goldschakal-Päärchen handeln könnte), denn es werden verschiedene, unabhängige Prüfobjekte betrachtet.\n",
    "\n",
    "## b)\n",
    "\n",
    "$H_0$: Es gibt keinen signifikanten Unterschied zwischen der Kieferlänge männlicher und weiblicher Schakale. $\\mu_x=\\mu_y$\n",
    "\n",
    "$H_A$: Es gibt einen signifikanten Unterschied zwischen der Kieferlänge männlicher und weiblicher Schakale $\\mu_x \\neq \\mu_y$\n",
    "\n",
    "Da die Frage nach einem _Unterschied_ lautet, muss ein zweiseitiger Test angewendet werden.\n",
    "\n",
    "## c)"
   ]
  },
  {
   "cell_type": "code",
   "execution_count": 16,
   "metadata": {},
   "outputs": [
    {
     "name": "stdout",
     "output_type": "stream",
     "text": [
      "p=0.0034\n"
     ]
    }
   ],
   "source": [
    "import pandas as pd\n",
    "import scipy.stats as st\n",
    "\n",
    "jackals = pd.read_csv('jackals.txt')\n",
    "p = st.ttest_ind(jackals['M'], jackals['W'], equal_var=False)[1]\n",
    "print('p={:.4f}'.format(p))"
   ]
  },
  {
   "cell_type": "markdown",
   "metadata": {},
   "source": [
    "Von einem Signifikanzniveau von $\\alpha=0.05$ ausgehend (steht nirgends geschrieben), kann die Nullhypothese verworfen werden. Es gibt höchstwahrscheinlich einen signifikanten Unterschied zwischen der Kieferlängen männlicher und weiblicher Goldschakale.\n",
    "\n",
    "## d)"
   ]
  },
  {
   "cell_type": "code",
   "execution_count": 15,
   "metadata": {},
   "outputs": [
    {
     "name": "stdout",
     "output_type": "stream",
     "text": [
      "p=0.0048\n"
     ]
    }
   ],
   "source": [
    "p = st.mannwhitneyu(jackals['M'], jackals['W'], alternative=\"two-sided\")[1]\n",
    "print('p={:.4f}'.format(p))"
   ]
  },
  {
   "cell_type": "markdown",
   "metadata": {},
   "source": [
    "Der p-Wert liegt knapp unter dem Signifikanzniveau von $\\alpha=0.05$. Die Nullhypothese kann auch mit dem Mann-Whitney U-Test verworfen werden."
   ]
  },
  {
   "cell_type": "markdown",
   "metadata": {},
   "source": [
    "## e)\n",
    "\n",
    "Da es sich bei den Kieferlängen um ein natürliches Phänomen handelt, dürften diese normalverteilt sein.\n",
    "\n",
    "Wenn jedoch der eine Test signifikant und der andere nicht signifikant ausgefallen wäre, würde ich weiter Testdaten sammeln, und diese noch einmal mit beiden Testverfahren prüfen.\n",
    "\n",
    "_Lösung:_ Normalverteilung darf nicht angenommen werden, darum ist der Mann-Whitney-U-Test vertrauenswürdiger. Die grosse Abweichungen der p-Werte sind jedoch problematisch."
   ]
  },
  {
   "cell_type": "markdown",
   "metadata": {},
   "source": [
    "# 8.5"
   ]
  },
  {
   "cell_type": "code",
   "execution_count": 5,
   "metadata": {},
   "outputs": [],
   "source": [
    "import numpy as np\n",
    "\n",
    "zurich = np.array([16.3, 12.7, 14.0, 53.3, 117, 62.6, 27.6])\n",
    "basel = np.array([10.4, 8.91, 11.7, 29.9, 46.3, 25.0, 29.4])"
   ]
  },
  {
   "cell_type": "markdown",
   "metadata": {},
   "source": [
    "## a)"
   ]
  },
  {
   "cell_type": "code",
   "execution_count": 6,
   "metadata": {},
   "outputs": [
    {
     "name": "stdout",
     "output_type": "stream",
     "text": [
      "μ=20.270, σ=26.272\n"
     ]
    }
   ],
   "source": [
    "diff = zurich - basel\n",
    "diff_mean = diff.mean()\n",
    "diff_std = diff.std(ddof=1)\n",
    "print('μ={:.3f}, σ={:.3f}'.format(diff_mean, diff_std))"
   ]
  },
  {
   "cell_type": "markdown",
   "metadata": {},
   "source": [
    "## b)\n",
    "\n",
    "Es handelt sich um eine ungepaarte Stichprobe, denn es werden _unterschiedliche Sachen_ gemessen, nicht das gleiche zweimal."
   ]
  },
  {
   "cell_type": "markdown",
   "metadata": {},
   "source": [
    "## c)\n",
    "\n",
    "$$H_0: \\mu_d = 0$$\n",
    "$$H_A: \\mu_d \\neq 0$$"
   ]
  },
  {
   "cell_type": "markdown",
   "metadata": {},
   "source": [
    "## d)\n",
    "\n",
    "Teststatistik: Die Differenzen der beiden Messreihen, $D \\sim \\mathcal{N}$"
   ]
  },
  {
   "cell_type": "code",
   "execution_count": 7,
   "metadata": {},
   "outputs": [
    {
     "name": "stdout",
     "output_type": "stream",
     "text": [
      "p=0.2233\n"
     ]
    }
   ],
   "source": [
    "import scipy.stats as st\n",
    "\n",
    "p = st.ttest_ind(zurich, basel, equal_var=False)[1]\n",
    "print('p={:.4f}'.format(p))"
   ]
  },
  {
   "cell_type": "markdown",
   "metadata": {},
   "source": [
    "## e)"
   ]
  },
  {
   "cell_type": "code",
   "execution_count": 8,
   "metadata": {},
   "outputs": [
    {
     "name": "stdout",
     "output_type": "stream",
     "text": [
      "p=0.1251\n"
     ]
    }
   ],
   "source": [
    "p = st.mannwhitneyu(zurich, basel, alternative='greater')[1]\n",
    "print('p={:.4f}'.format(p))"
   ]
  }
 ],
 "metadata": {
  "kernelspec": {
   "display_name": "Python 3",
   "language": "python",
   "name": "python3"
  },
  "language_info": {
   "codemirror_mode": {
    "name": "ipython",
    "version": 3
   },
   "file_extension": ".py",
   "mimetype": "text/x-python",
   "name": "python",
   "nbconvert_exporter": "python",
   "pygments_lexer": "ipython3",
   "version": "3.7.3"
  }
 },
 "nbformat": 4,
 "nbformat_minor": 2
}
