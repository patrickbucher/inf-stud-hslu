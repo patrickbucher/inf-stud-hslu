{
 "cells": [
  {
   "cell_type": "markdown",
   "metadata": {},
   "source": [
    "# Vorgehen\n",
    "\n",
    "1. Modell (z.B. $X_i i.i.d \\sim \\mathcal{N}(\\mu, \\sigma^2)$\n",
    "2. Nullhypothese (z.B. \\mu=\\mu_0=70)\n",
    "3. Verteilung der Teststatistik unter $H_0$ (z.B. $\\overline{X}_{12} \\sim \\mathcal{N}(70, \\frac{1.5^2}{12}$)\n",
    "4. Signifikanzniveau (z.B. $\\alpha=0.05=5\\%$)\n",
    "5. Verwerfungsbereich für die Teststatistik (z.B. mittels `norm.ppf`)\n",
    "6. Testentscheid"
   ]
  },
  {
   "cell_type": "markdown",
   "metadata": {},
   "source": [
    "# 6.1\n",
    "\n",
    "Nullhypothese $ H_0: X \\sim \\mathcal{N}(70, 1.5^2), \\mu = 70, \\sigma=1.5 $ (in Centiliter)\n",
    "\n",
    "Alternativhypothese $ H_A: \\mu < 70 $ (zu _wenig_ abgefüllt)\n",
    "\n",
    "Signifikanzniveau: $ 5\\% $"
   ]
  },
  {
   "cell_type": "code",
   "execution_count": 3,
   "metadata": {},
   "outputs": [
    {
     "name": "stdout",
     "output_type": "stream",
     "text": [
      "Verwerfungsbereich: (-∞,69.29]\n",
      "sample mean=70.250, sample std=1.960\n",
      "P(X<=70)=0.718\n"
     ]
    }
   ],
   "source": [
    "import math\n",
    "import numpy as np\n",
    "from scipy.stats import norm\n",
    "\n",
    "significance = 0.05\n",
    "pop_mean = 70\n",
    "pop_std = 1.5\n",
    "sample = np.array([71, 69, 67, 68, 73, 72, 71, 71, 68, 72, 69, 72])\n",
    "\n",
    "upper = norm.ppf(q=significance, loc=pop_mean, scale=pop_std/math.sqrt(len(sample)))\n",
    "print('Verwerfungsbereich: (-∞,{:.2f}]'.format(upper))\n",
    "\n",
    "sample_mean = sample.mean()\n",
    "sample_std = sample.std(ddof=1)\n",
    "print('sample mean={:.3f}, sample std={:.3f}'.format(sample_mean, sample_std))\n",
    "\n",
    "# the population standard deviation is known: z-test\n",
    "p = norm.cdf(x=sample_mean, loc=pop_mean, scale=pop_std / math.sqrt(len(sample)))\n",
    "print('P(X<=70)={:.3f}'.format(p))"
   ]
  },
  {
   "cell_type": "markdown",
   "metadata": {},
   "source": [
    "Die Nullhypothese trifft mit einer Wahrscheinlichkei von $71.8\\%$ zu und kann darum bei einem Signifikanzniveau von $5\\%$ nicht verworfen werden. Man kann nicht behaupten, dass der Weinhändler zu wenig abfüllt. (Die Stichprobe liesse eher vermuten, dass der Weinhändler eher zu viel abfüllt.)"
   ]
  },
  {
   "cell_type": "markdown",
   "metadata": {},
   "source": [
    "# 6.2\n",
    "\n",
    "Nullhypothese $H_0: X \\sim \\mathcal{N}(70, \\sigma^2), \\mu=70, \\sigma$ unbekannt.\n",
    "\n",
    "Alternativhypothese $H_A: \\mu < 70$ (zu wenig abgefüllt)\n",
    "\n",
    "Signifikanzniveau: $5\\%$"
   ]
  },
  {
   "cell_type": "code",
   "execution_count": 4,
   "metadata": {},
   "outputs": [
    {
     "name": "stdout",
     "output_type": "stream",
     "text": [
      "Verwerfungsbereich: (-∞,68.98]\n",
      "sample mean=70.250, sample std=1.960\n",
      "P(X<=70)=0.666\n",
      "P(X<=70)=0.666\n"
     ]
    }
   ],
   "source": [
    "import math\n",
    "import numpy as np\n",
    "from scipy.stats import t\n",
    "\n",
    "pop_mean = 70\n",
    "sample = np.array([71, 69, 67, 68, 73, 72, 71, 71, 68, 72, 69, 72])\n",
    "n = len(sample)\n",
    "\n",
    "upper = t.ppf(q=significance, df=n-1, loc=pop_mean, scale=sample_std/math.sqrt(n))\n",
    "print('Verwerfungsbereich: (-∞,{:.2f}]'.format(upper))\n",
    "\n",
    "sample_mean = sample.mean()\n",
    "sample_std = sample.std(ddof=1)\n",
    "print('sample mean={:.3f}, sample std={:.3f}'.format(sample_mean, sample_std))\n",
    "\n",
    "p = t.cdf(x=sample_mean, loc=pop_mean, df=len(sample)-1, scale=sample_std / math.sqrt(len(sample)))\n",
    "print('P(X<=70)={:.3f}'.format(p))\n",
    "\n",
    "# standardized\n",
    "p = t.cdf(x=(sample_mean-pop_mean)/(sample_std/math.sqrt(len(sample))), df=len(sample)-1)\n",
    "print('P(X<=70)={:.3f}'.format(p))"
   ]
  },
  {
   "cell_type": "markdown",
   "metadata": {},
   "source": [
    "Die Nullhypothese trifft mit einer Wahrscheinlichkeit von $66.6\\%$ zu und kann darum bei einem Signifikanzniveau von $5\\%$ nicht verworfen werden. Man kann nicht behaupten, dass der Weinhändler zu wenig abfüllt.\n",
    "\n",
    "Gegenüber dem z-Test in Aufgabe 6.1 war hier die Standardabweichung nicht bekannt und musste geschätzt werden. Es wurde somit ein t-Test durchgeführt."
   ]
  },
  {
   "cell_type": "markdown",
   "metadata": {},
   "source": [
    "# 6.3\n",
    "\n",
    "$ n = 16, X_i $ in $ \\mu g, \\overline{x}_{16} = 204.2 \\mu g$, Grenzwert $= 200 \\mu g$, Signifikanzniveau $=0.05$\n",
    "\n",
    "## a)\n",
    "\n",
    "Annahme: $ \\sigma=10\\mu g $\n",
    "\n",
    "Nullhypothese $ H_0: X \\sim \\mathcal{N}(200, 10^2) $\n",
    "\n",
    "Alternativhypothese $ H_A: \\mu > 200 $ (Grenzwert überschritten)"
   ]
  },
  {
   "cell_type": "code",
   "execution_count": 8,
   "metadata": {},
   "outputs": [
    {
     "name": "stdout",
     "output_type": "stream",
     "text": [
      "Verwerfungsbereich: [204.11,∞)\n",
      "P(X>200)=0.954\n"
     ]
    }
   ],
   "source": [
    "import math\n",
    "from scipy.stats import norm\n",
    "\n",
    "n = 16\n",
    "pop_mean = 200\n",
    "pop_std = 10\n",
    "sample_mean = 204.2\n",
    "\n",
    "lower = norm.ppf(q=0.95, loc=pop_mean, scale=pop_std/math.sqrt(n))\n",
    "print('Verwerfungsbereich: [{:.2f},∞)'.format(lower))\n",
    "\n",
    "p = norm.cdf(x=sample_mean, loc=pop_mean, scale=pop_std/math.sqrt(n))\n",
    "print('P(X>200)={:.3f}'.format(p))"
   ]
  },
  {
   "cell_type": "markdown",
   "metadata": {},
   "source": [
    "Eine Grenzwertüberschreitung trifft mit $95.5\\%$ Wahrscheinlichkeit zu. Bei einem Signifikanzniveau von $5\\%$ kann die Nullhypothese damit verworfen werden. Es liegt wahrscheinlich eine Grenzwertüberschreitung vor."
   ]
  },
  {
   "cell_type": "markdown",
   "metadata": {},
   "source": [
    "## b)\n",
    "\n",
    "$\\mu=205 \\mu g$"
   ]
  },
  {
   "cell_type": "code",
   "execution_count": 9,
   "metadata": {},
   "outputs": [
    {
     "name": "stdout",
     "output_type": "stream",
     "text": [
      "P=0.639\n",
      "0.6314\n"
     ]
    }
   ],
   "source": [
    "import math\n",
    "from scipy.stats import norm\n",
    "\n",
    "real_mean = 205\n",
    "fake_mean = 200\n",
    "n = 16\n",
    "pop_std = 10\n",
    "\n",
    "# real solution: x from exercise a)\n",
    "p = 1 - norm.cdf(x=204.11, loc=205, scale=pop_std/math.sqrt(n))\n",
    "print('P={:.3f}'.format(p))\n",
    "\n",
    "# simulation\n",
    "runs = 5000\n",
    "rejected = 0\n",
    "for i in range(0, runs):\n",
    "    sample = norm.rvs(size=n, loc=real_mean, scale=pop_std)\n",
    "    p = norm.cdf(x=sample.mean(), loc=fake_mean, scale=pop_std/math.sqrt(n))\n",
    "    if p > 0.95:\n",
    "        rejected += 1\n",
    "\n",
    "p = rejected / runs\n",
    "print(p)"
   ]
  },
  {
   "cell_type": "markdown",
   "metadata": {},
   "source": [
    "Eine Simulation mit 5000 Durchläufen ergab, dass die Grenzwertüberschreitung in ca. $64.4\\%$ der Fälle entdeckt werden konnte."
   ]
  },
  {
   "cell_type": "markdown",
   "metadata": {},
   "source": [
    "## c)\n",
    "\n",
    "$\\mu = 200\\mu g$"
   ]
  },
  {
   "cell_type": "code",
   "execution_count": 12,
   "metadata": {},
   "outputs": [
    {
     "name": "stdout",
     "output_type": "stream",
     "text": [
      "0.05134\n"
     ]
    }
   ],
   "source": [
    "import math\n",
    "from scipy.stats import norm\n",
    "\n",
    "real_mean = 200\n",
    "n = 16\n",
    "pop_std = 10\n",
    "\n",
    "# simulation\n",
    "runs = 50000\n",
    "rejected = 0\n",
    "for i in range(0, runs):\n",
    "    sample = norm.rvs(size=n, loc=real_mean, scale=pop_std)\n",
    "    p = norm.cdf(x=sample.mean(), loc=real_mean, scale=pop_std/math.sqrt(n))\n",
    "    if p > 0.95:\n",
    "        rejected += 1\n",
    "\n",
    "p = rejected / runs\n",
    "print(p)"
   ]
  },
  {
   "cell_type": "markdown",
   "metadata": {},
   "source": [
    "Per Definition: $5\\%=0.05$ (Niveau des Tests). Die Simulation nähert sich diesem Wert mit steigender Anzahl Durchläufen an. (Wahrscheinlichkeit für einen _false positive_.)"
   ]
  },
  {
   "cell_type": "markdown",
   "metadata": {},
   "source": [
    "## d)"
   ]
  },
  {
   "cell_type": "code",
   "execution_count": 14,
   "metadata": {},
   "outputs": [
    {
     "name": "stdout",
     "output_type": "stream",
     "text": [
      "204.38262588923138\n",
      "0.9431708331031162\n"
     ]
    }
   ],
   "source": [
    "import math\n",
    "from scipy.stats import t\n",
    "\n",
    "pop_mean = 200\n",
    "n = 16\n",
    "sample_mean = 204.2\n",
    "sample_std = 10\n",
    "\n",
    "lower = t.ppf(q=0.95, df=n-1, loc=pop_mean, scale=sample_std/math.sqrt(n))\n",
    "print(lower)\n",
    "\n",
    "p = t.cdf(x=sample_mean, loc=pop_mean, df=n-1, scale=sample_std/math.sqrt(n))\n",
    "print(p)"
   ]
  },
  {
   "cell_type": "markdown",
   "metadata": {},
   "source": [
    "Eine Grenzwertüberschreitung liegt mit einer Wahrscheinlichkeit von $94.3\\%$ vor. Bei einem Signifikanzniveau von $5\\%$ kann die Nullhypothese deshalb _nicht verworfen_ werden."
   ]
  },
  {
   "cell_type": "markdown",
   "metadata": {},
   "source": [
    "## e)\n",
    "\n",
    "Die Stichprobe könnte zu klein sein. Je grösser die Stichprobe, desto stärker der t-Test."
   ]
  }
 ],
 "metadata": {
  "kernelspec": {
   "display_name": "Python 3",
   "language": "python",
   "name": "python3"
  },
  "language_info": {
   "codemirror_mode": {
    "name": "ipython",
    "version": 3
   },
   "file_extension": ".py",
   "mimetype": "text/x-python",
   "name": "python",
   "nbconvert_exporter": "python",
   "pygments_lexer": "ipython3",
   "version": "3.7.3"
  }
 },
 "nbformat": 4,
 "nbformat_minor": 2
}
