{
 "cells": [
  {
   "cell_type": "markdown",
   "metadata": {},
   "source": [
    "# 9.1\n",
    "\n",
    "Es gibt drei Variablen:\n",
    "\n",
    "1. das Pressverfahren (Prüfvariable)\n",
    "2. die natürliche Variation der Hemden (Störfaktor)\n",
    "3. die natürliche Variation der Simulationsläufe (Störfaktor)\n",
    "\n",
    "Ein gutes Verfahren gewichtet Variable 1 und macht Variablen 2 und 3 \"unschädlich\".\n",
    "\n",
    "## Methode 1\n",
    "\n",
    "Eine Gruppe wird jeweils dem gleichen Pressverfahren (Prüfvariable) und der gleichen Simulation (Störfaktor) ausgesetzt. Dadurch kann nicht unterschieden werden, ob Unterschiede auf das Pressverfahren oder auf den Störfaktor zurückzuführen sind. Die Variation der Hemden spielt bei diesem Verfahren jedoch kaum eine Rolle.\n",
    "\n",
    "## Methode 2\n",
    "\n",
    "Hier wird jedes Prüfverfahren mit einem Simulationslauf kombiniert. Pressverfahren und Simulation können dadurch unabhängig voneinander geprüft werden. Die Variation zwischen den einzelnen Hemden spielt aber dadurch eine grössere Rolle.\n",
    "\n",
    "## Methode 3\n",
    "\n",
    "Diese Methode kombiniert die Vorteile von Methode 1 und Methode 2. Durch die zufällige Gruppenzuordnung verlieren beide Störfaktoren an Gewicht, bzw. können aufgrund der Randomisierung keinen systematischen Einfluss mehr haben.\n",
    "\n",
    "## Fazit\n",
    "\n",
    "Ich bevorzuge Methode 3, da diese beide Störfaktoren am ehesten eliminiert."
   ]
  },
  {
   "cell_type": "markdown",
   "metadata": {},
   "source": [
    "# 9.2\n",
    "\n",
    "1. Es dürften sich tendenziell mehr Kinder für _Diät B_ als für _Diät A_ entscheiden, was zu stark ungleichen Gruppengrössen führt. Die Gewohnheit der Kinder dürfte auch in die Wahl der Diät hineinspielen (Confounding).\n",
    "2. Die schnelleren Kinder (Gruppe A) dürften tendenziell die grösseren sein, wodurch sich zwei Gruppen mit unterschiedlicher Ausgangslage bilden.\n",
    "3. Diese Variante führt zu gleich grossen und gut durchmischten Gruppen.\n",
    "4. Diese Variante dürfte zu annährend gleicher Gruppengrösse und zufälligen Gruppenzusammensetzungen führen.\n",
    "5. Führt zu ähnlich zufälligen Ergebnissen wie Variante vier, jedoch mich garantiert gleichgrossen Gruppen."
   ]
  }
 ],
 "metadata": {
  "kernelspec": {
   "display_name": "Python 3",
   "language": "python",
   "name": "python3"
  },
  "language_info": {
   "codemirror_mode": {
    "name": "ipython",
    "version": 3
   },
   "file_extension": ".py",
   "mimetype": "text/x-python",
   "name": "python",
   "nbconvert_exporter": "python",
   "pygments_lexer": "ipython3",
   "version": "3.7.3"
  }
 },
 "nbformat": 4,
 "nbformat_minor": 2
}
