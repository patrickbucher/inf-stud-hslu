{
 "cells": [
  {
   "cell_type": "markdown",
   "metadata": {},
   "source": [
    "# 1.1\n",
    "## a)"
   ]
  },
  {
   "cell_type": "code",
   "execution_count": 2,
   "metadata": {},
   "outputs": [],
   "source": [
    "import numpy as np\n",
    "import pandas as pd\n",
    "data = pd.read_csv('child.csv', sep=',', index_col=0)"
   ]
  },
  {
   "cell_type": "markdown",
   "metadata": {},
   "source": [
    "## b)"
   ]
  },
  {
   "cell_type": "code",
   "execution_count": 4,
   "metadata": {},
   "outputs": [
    {
     "data": {
      "text/plain": [
       "(30, 21)"
      ]
     },
     "execution_count": 4,
     "metadata": {},
     "output_type": "execute_result"
    }
   ],
   "source": [
    "data.shape"
   ]
  },
  {
   "cell_type": "markdown",
   "metadata": {},
   "source": [
    "# c)"
   ]
  },
  {
   "cell_type": "code",
   "execution_count": 5,
   "metadata": {},
   "outputs": [
    {
     "data": {
      "text/html": [
       "<div>\n",
       "<style scoped>\n",
       "    .dataframe tbody tr th:only-of-type {\n",
       "        vertical-align: middle;\n",
       "    }\n",
       "\n",
       "    .dataframe tbody tr th {\n",
       "        vertical-align: top;\n",
       "    }\n",
       "\n",
       "    .dataframe thead th {\n",
       "        text-align: right;\n",
       "    }\n",
       "</style>\n",
       "<table border=\"1\" class=\"dataframe\">\n",
       "  <thead>\n",
       "    <tr style=\"text-align: right;\">\n",
       "      <th></th>\n",
       "      <th>Average.disposable.income</th>\n",
       "      <th>Children.in.poor.homes</th>\n",
       "      <th>Educational.Deprivation</th>\n",
       "      <th>Overcrowding</th>\n",
       "      <th>Poor.environmental.conditions</th>\n",
       "      <th>Average.mean.literacy.score</th>\n",
       "      <th>Literacy.inequality</th>\n",
       "      <th>Youth.NEET.rate</th>\n",
       "      <th>Low.birth.weight</th>\n",
       "      <th>Infant.mortality</th>\n",
       "      <th>...</th>\n",
       "      <th>Vaccination.rates..pertussis.</th>\n",
       "      <th>Vaccination.rates.measles.</th>\n",
       "      <th>Physical.activity</th>\n",
       "      <th>Mortality.rates</th>\n",
       "      <th>Suicide.rates</th>\n",
       "      <th>Smoking</th>\n",
       "      <th>Drunkenness</th>\n",
       "      <th>Teenage.births</th>\n",
       "      <th>Bullying</th>\n",
       "      <th>Liking.school</th>\n",
       "    </tr>\n",
       "  </thead>\n",
       "  <tbody>\n",
       "    <tr>\n",
       "      <th>mean</th>\n",
       "      <td>18.847713</td>\n",
       "      <td>12.372193</td>\n",
       "      <td>2.673333</td>\n",
       "      <td>31.950163</td>\n",
       "      <td>25.217498</td>\n",
       "      <td>496.317</td>\n",
       "      <td>1.665085</td>\n",
       "      <td>7.377778</td>\n",
       "      <td>6.643333</td>\n",
       "      <td>5.446667</td>\n",
       "      <td>...</td>\n",
       "      <td>93.775862</td>\n",
       "      <td>91.517241</td>\n",
       "      <td>20.134615</td>\n",
       "      <td>24.598966</td>\n",
       "      <td>6.856272</td>\n",
       "      <td>16.5125</td>\n",
       "      <td>15.225</td>\n",
       "      <td>15.5</td>\n",
       "      <td>10.979167</td>\n",
       "      <td>27.172</td>\n",
       "    </tr>\n",
       "    <tr>\n",
       "      <th>50%</th>\n",
       "      <td>21.107187</td>\n",
       "      <td>11.659053</td>\n",
       "      <td>1.500000</td>\n",
       "      <td>21.574977</td>\n",
       "      <td>25.487116</td>\n",
       "      <td>501.335</td>\n",
       "      <td>1.682739</td>\n",
       "      <td>6.200000</td>\n",
       "      <td>6.750000</td>\n",
       "      <td>4.200000</td>\n",
       "      <td>...</td>\n",
       "      <td>95.800000</td>\n",
       "      <td>94.000000</td>\n",
       "      <td>19.300000</td>\n",
       "      <td>23.150000</td>\n",
       "      <td>6.784772</td>\n",
       "      <td>16.6000</td>\n",
       "      <td>14.550</td>\n",
       "      <td>10.6</td>\n",
       "      <td>9.650000</td>\n",
       "      <td>25.600</td>\n",
       "    </tr>\n",
       "  </tbody>\n",
       "</table>\n",
       "<p>2 rows × 21 columns</p>\n",
       "</div>"
      ],
      "text/plain": [
       "      Average.disposable.income  Children.in.poor.homes  \\\n",
       "mean                  18.847713               12.372193   \n",
       "50%                   21.107187               11.659053   \n",
       "\n",
       "      Educational.Deprivation  Overcrowding  Poor.environmental.conditions  \\\n",
       "mean                 2.673333     31.950163                      25.217498   \n",
       "50%                  1.500000     21.574977                      25.487116   \n",
       "\n",
       "      Average.mean.literacy.score  Literacy.inequality  Youth.NEET.rate  \\\n",
       "mean                      496.317             1.665085         7.377778   \n",
       "50%                       501.335             1.682739         6.200000   \n",
       "\n",
       "      Low.birth.weight  Infant.mortality  ...  Vaccination.rates..pertussis.  \\\n",
       "mean          6.643333          5.446667  ...                      93.775862   \n",
       "50%           6.750000          4.200000  ...                      95.800000   \n",
       "\n",
       "      Vaccination.rates.measles.  Physical.activity  Mortality.rates  \\\n",
       "mean                   91.517241          20.134615        24.598966   \n",
       "50%                    94.000000          19.300000        23.150000   \n",
       "\n",
       "      Suicide.rates  Smoking  Drunkenness  Teenage.births   Bullying  \\\n",
       "mean       6.856272  16.5125       15.225            15.5  10.979167   \n",
       "50%        6.784772  16.6000       14.550            10.6   9.650000   \n",
       "\n",
       "      Liking.school  \n",
       "mean         27.172  \n",
       "50%          25.600  \n",
       "\n",
       "[2 rows x 21 columns]"
      ]
     },
     "execution_count": 5,
     "metadata": {},
     "output_type": "execute_result"
    }
   ],
   "source": [
    "summary = data.describe()\n",
    "mean_median = summary.loc[['mean', '50%']] # median: 50% quantile\n",
    "mean_median"
   ]
  },
  {
   "cell_type": "markdown",
   "metadata": {},
   "source": [
    "## d)"
   ]
  },
  {
   "cell_type": "code",
   "execution_count": 8,
   "metadata": {},
   "outputs": [
    {
     "name": "stdout",
     "output_type": "stream",
     "text": [
      "Has Netherlands? True\n",
      "Has China? False\n"
     ]
    }
   ],
   "source": [
    "has_netherlands = data.index.contains('Netherlands')\n",
    "has_china = data.index.contains('China')\n",
    "print(\"Has Netherlands? {}\\nHas China? {}\".format(has_netherlands, has_china))"
   ]
  },
  {
   "cell_type": "markdown",
   "metadata": {},
   "source": [
    "## e)"
   ]
  },
  {
   "cell_type": "code",
   "execution_count": 24,
   "metadata": {},
   "outputs": [
    {
     "name": "stdout",
     "output_type": "stream",
     "text": [
      "Most Drunkenness in: Denmark (24.8% drunken >= 2 times)\n"
     ]
    }
   ],
   "source": [
    "data_sorted_by_drunkenness = data.sort_values(by=['Drunkenness'], ascending=False)\n",
    "country = data_sorted_by_drunkenness.index[0]\n",
    "drunkenness = data_sorted_by_drunkenness['Drunkenness'][0]\n",
    "print('Most Drunkenness in: {} ({}% drunken >= 2 times)'.format(country, drunkenness))"
   ]
  },
  {
   "cell_type": "markdown",
   "metadata": {},
   "source": [
    "## f)"
   ]
  },
  {
   "cell_type": "code",
   "execution_count": 32,
   "metadata": {},
   "outputs": [
    {
     "name": "stdout",
     "output_type": "stream",
     "text": [
      "Lowest Infant Mortality in: Iceland (2.3 per 1000)\n"
     ]
    }
   ],
   "source": [
    "lowest_infant_mortality = data.nsmallest(1, 'Infant.mortality')\n",
    "country = lowest_infant_mortality.index[0]\n",
    "infant_mortality = lowest_infant_mortality['Infant.mortality'][0]\n",
    "print('Lowest Infant Mortality in: {} ({} per 1000)'.format(country, infant_mortality))"
   ]
  },
  {
   "cell_type": "markdown",
   "metadata": {},
   "source": [
    "## g)"
   ]
  },
  {
   "cell_type": "code",
   "execution_count": 51,
   "metadata": {},
   "outputs": [
    {
     "name": "stdout",
     "output_type": "stream",
     "text": [
      "Countries with below mean physical activity (< 20.134615384615383): Austria Belgium France Germany Greece Hungary Italy Luxembourg Mexico Norway Poland Portugal Sweden Switzerland Turkey United Kingdom\n"
     ]
    }
   ],
   "source": [
    "# data.columns: find out column names\n",
    "countries = list(data[data['Physical.activity'] < data['Physical.activity'].mean()].index)\n",
    "mean_physical_activity = data['Physical.activity'].mean()\n",
    "print('Countries with below mean physical activity (< {}):'.format(mean_physical_activity), *countries)"
   ]
  },
  {
   "cell_type": "markdown",
   "metadata": {},
   "source": [
    "# 1.2\n",
    "## a)"
   ]
  },
  {
   "cell_type": "code",
   "execution_count": 3,
   "metadata": {},
   "outputs": [],
   "source": [
    "import numpy as np\n",
    "import pandas as pd\n",
    "\n",
    "fuel = pd.read_csv('fuel.csv', sep=',', index_col=0)"
   ]
  },
  {
   "cell_type": "markdown",
   "metadata": {},
   "source": [
    "## b)"
   ]
  },
  {
   "cell_type": "code",
   "execution_count": 5,
   "metadata": {},
   "outputs": [
    {
     "data": {
      "text/plain": [
       "weight     2440\n",
       "mpg          32\n",
       "type      Small\n",
       "Name: 5, dtype: object"
      ]
     },
     "execution_count": 5,
     "metadata": {},
     "output_type": "execute_result"
    }
   ],
   "source": [
    "fuel.loc[5, :]"
   ]
  },
  {
   "cell_type": "markdown",
   "metadata": {},
   "source": [
    "## c)"
   ]
  },
  {
   "cell_type": "code",
   "execution_count": 6,
   "metadata": {},
   "outputs": [
    {
     "data": {
      "text/html": [
       "<div>\n",
       "<style scoped>\n",
       "    .dataframe tbody tr th:only-of-type {\n",
       "        vertical-align: middle;\n",
       "    }\n",
       "\n",
       "    .dataframe tbody tr th {\n",
       "        vertical-align: top;\n",
       "    }\n",
       "\n",
       "    .dataframe thead th {\n",
       "        text-align: right;\n",
       "    }\n",
       "</style>\n",
       "<table border=\"1\" class=\"dataframe\">\n",
       "  <thead>\n",
       "    <tr style=\"text-align: right;\">\n",
       "      <th></th>\n",
       "      <th>weight</th>\n",
       "      <th>mpg</th>\n",
       "      <th>type</th>\n",
       "    </tr>\n",
       "    <tr>\n",
       "      <th>X</th>\n",
       "      <th></th>\n",
       "      <th></th>\n",
       "      <th></th>\n",
       "    </tr>\n",
       "  </thead>\n",
       "  <tbody>\n",
       "    <tr>\n",
       "      <th>1</th>\n",
       "      <td>2560</td>\n",
       "      <td>33</td>\n",
       "      <td>Small</td>\n",
       "    </tr>\n",
       "    <tr>\n",
       "      <th>2</th>\n",
       "      <td>2345</td>\n",
       "      <td>33</td>\n",
       "      <td>Small</td>\n",
       "    </tr>\n",
       "    <tr>\n",
       "      <th>3</th>\n",
       "      <td>1845</td>\n",
       "      <td>37</td>\n",
       "      <td>Small</td>\n",
       "    </tr>\n",
       "    <tr>\n",
       "      <th>4</th>\n",
       "      <td>2260</td>\n",
       "      <td>32</td>\n",
       "      <td>Small</td>\n",
       "    </tr>\n",
       "    <tr>\n",
       "      <th>5</th>\n",
       "      <td>2440</td>\n",
       "      <td>32</td>\n",
       "      <td>Small</td>\n",
       "    </tr>\n",
       "  </tbody>\n",
       "</table>\n",
       "</div>"
      ],
      "text/plain": [
       "   weight  mpg   type\n",
       "X                    \n",
       "1    2560   33  Small\n",
       "2    2345   33  Small\n",
       "3    1845   37  Small\n",
       "4    2260   32  Small\n",
       "5    2440   32  Small"
      ]
     },
     "execution_count": 6,
     "metadata": {},
     "output_type": "execute_result"
    }
   ],
   "source": [
    "fuel.loc[1:5, :]"
   ]
  },
  {
   "cell_type": "markdown",
   "metadata": {},
   "source": [
    "## d)"
   ]
  },
  {
   "cell_type": "code",
   "execution_count": 14,
   "metadata": {},
   "outputs": [
    {
     "name": "stdout",
     "output_type": "stream",
     "text": [
      "mean miles/gallon: 24.583\n"
     ]
    }
   ],
   "source": [
    "mean_mpg = fuel['mpg'].mean()\n",
    "print('mean miles/gallon: {:.3f}'.format(mean_mpg))"
   ]
  },
  {
   "cell_type": "markdown",
   "metadata": {},
   "source": [
    "## e)"
   ]
  },
  {
   "cell_type": "code",
   "execution_count": 13,
   "metadata": {},
   "outputs": [
    {
     "name": "stdout",
     "output_type": "stream",
     "text": [
      "mean miles/gallon (cars 7 to 22): 27.750\n"
     ]
    }
   ],
   "source": [
    "mean_mpg_7_22 = fuel.loc[7:22, 'mpg'].mean()\n",
    "print('mean miles/gallon (cars 7 to 22): {:.3f}'.format(mean_mpg_7_22))"
   ]
  },
  {
   "cell_type": "markdown",
   "metadata": {},
   "source": [
    "## f)"
   ]
  },
  {
   "cell_type": "code",
   "execution_count": 18,
   "metadata": {},
   "outputs": [],
   "source": [
    "kilometers_per_mile = 1.6093\n",
    "liters_per_gallon = 3.789\n",
    "t_kml = fuel['mpg'] * kilometers_per_mile / liters_per_gallon\n",
    "\n",
    "kilograms_per_pound = 0.45359\n",
    "t_kg = fuel['weight'] * kilograms_per_pound"
   ]
  },
  {
   "cell_type": "markdown",
   "metadata": {},
   "source": [
    "## g)"
   ]
  },
  {
   "cell_type": "code",
   "execution_count": 19,
   "metadata": {},
   "outputs": [
    {
     "name": "stdout",
     "output_type": "stream",
     "text": [
      "mean km/l: 10.441, mean kg: 1315.789\n"
     ]
    }
   ],
   "source": [
    "mean_kml = t_kml.mean()\n",
    "mean_kg = t_kg.mean()\n",
    "print('mean km/l: {:.3f}, mean kg: {:.3f}'.format(mean_kml, mean_kg))"
   ]
  },
  {
   "cell_type": "markdown",
   "metadata": {},
   "source": [
    "# 1.3)"
   ]
  },
  {
   "cell_type": "code",
   "execution_count": 47,
   "metadata": {},
   "outputs": [],
   "source": [
    "hectars = [2.1,2.4,2.8,3.1,4.2,4.9,5.1,6.0,6.4,7.3,10.8,12.5,13.0,13.7,14.8,17.6,19.6,23.0,25.0,35.2,39.6]\n",
    "hectars_array = np.array(hectars)"
   ]
  },
  {
   "cell_type": "markdown",
   "metadata": {},
   "source": [
    "## a)"
   ]
  },
  {
   "cell_type": "code",
   "execution_count": 14,
   "metadata": {},
   "outputs": [
    {
     "name": "stdout",
     "output_type": "stream",
     "text": [
      "total hectars: 269.1, total squared hectars: 5729.27\n"
     ]
    }
   ],
   "source": [
    "hectars_sum = hectars_array.sum()\n",
    "squared_sum = np.sum(hectars_array ** 2)\n",
    "print('total hectars: {}, total squared hectars: {}'.format(hectars_sum, squared_sum))"
   ]
  },
  {
   "cell_type": "markdown",
   "metadata": {},
   "source": [
    "## b)"
   ]
  },
  {
   "cell_type": "code",
   "execution_count": 38,
   "metadata": {},
   "outputs": [
    {
     "name": "stdout",
     "output_type": "stream",
     "text": [
      "mean: 12.814\n",
      "sd: 10.679\n"
     ]
    }
   ],
   "source": [
    "from math import floor, ceil, sqrt\n",
    "\n",
    "sum_acc = 0\n",
    "size = 0\n",
    "for x in hectars:\n",
    "    sum_acc += x\n",
    "    size += 1\n",
    "mean = sum_acc / size\n",
    "print('mean: {:.3f}'.format(mean))\n",
    "\n",
    "diff_sum = 0\n",
    "for x in hectars:\n",
    "    diff_sum += (x - mean) ** 2\n",
    "var = diff_sum / (size - 1)\n",
    "sd = sqrt(var)\n",
    "print('sd: {:.3f}'.format(sd))"
   ]
  },
  {
   "cell_type": "markdown",
   "metadata": {},
   "source": [
    "## c)"
   ]
  },
  {
   "cell_type": "code",
   "execution_count": 48,
   "metadata": {},
   "outputs": [
    {
     "name": "stdout",
     "output_type": "stream",
     "text": [
      "median: 10.800\n"
     ]
    }
   ],
   "source": [
    "hectars.sort()\n",
    "median = 0\n",
    "n = len(hectars)\n",
    "if (n % 2 == 1):\n",
    "    median = hectars[int(n / 2)]\n",
    "else:\n",
    "    lower = floor(n / 2)\n",
    "    upper = ceil(n / 2)\n",
    "    median = (hectars[lower] + hectars[upper]) / 2\n",
    "print('median: {:.3f}'.format(median))"
   ]
  },
  {
   "cell_type": "markdown",
   "metadata": {},
   "source": [
    "## d)"
   ]
  },
  {
   "cell_type": "code",
   "execution_count": 124,
   "metadata": {},
   "outputs": [
    {
     "name": "stdout",
     "output_type": "stream",
     "text": [
      "NumPy\n",
      "mean:\t12.814\n",
      "std:\t10.679\n",
      "median:\t10.800\n",
      "q75:\t17.600\n",
      "\n",
      "Pandas\n",
      "mean:\t12.814\n",
      "std:\t10.679\n",
      "median:\t10.800\n",
      "q75:\t17.600\n"
     ]
    }
   ],
   "source": [
    "# NumPy\n",
    "mean = hectars_array.mean()\n",
    "std = hectars_array.std(ddof=1) # ddof=1: compute with divisor n-1 (Delta Degrees of Freedom)\n",
    "median = np.median(np.sort(hectars_array))\n",
    "q75 = np.percentile(hectars_array, q=75)\n",
    "print('NumPy')\n",
    "print('mean:\\t{:.3f}\\nstd:\\t{:.3f}\\nmedian:\\t{:.3f}\\nq75:\\t{:.3f}'.format(mean, std, median, q75))\n",
    "\n",
    "# Pandas\n",
    "series = pd.Series(hectars)\n",
    "mean = series.mean()\n",
    "std = series.std() # computed with divisor n-1\n",
    "median = series.median()\n",
    "q75 = series.quantile(q=0.75)\n",
    "print('\\nPandas')\n",
    "print('mean:\\t{:.3f}\\nstd:\\t{:.3f}\\nmedian:\\t{:.3f}\\nq75:\\t{:.3f}'.format(mean, std, median, q75))"
   ]
  },
  {
   "cell_type": "markdown",
   "metadata": {},
   "source": [
    "## e)"
   ]
  },
  {
   "cell_type": "code",
   "execution_count": 104,
   "metadata": {},
   "outputs": [
    {
     "name": "stdout",
     "output_type": "stream",
     "text": [
      "mean (standardized variables): 0.000\n",
      "empirical standard deviation: 1.000\n",
      "empirical standard deviation: 1.000\n"
     ]
    }
   ],
   "source": [
    "standardized = [(x - mean) / std for x in hectars]\n",
    "standardized_array = np.array(standardized)\n",
    "mean_standardized = standardized_array.mean()\n",
    "print('mean (standardized variables): {:.3f}'.format(abs(mean_standardized)))\n",
    "\n",
    "std_standardized = standardized_array.std(ddof=1)\n",
    "print('empirical standard deviation: {:.3f}'.format(std_standardized))\n",
    "\n",
    "# manually calculated\n",
    "mean_standardized = standardized_array.mean()\n",
    "acc = 0\n",
    "n = 0\n",
    "for z in standardized_array:\n",
    "    acc += (z - mean_standardized) ** 2\n",
    "    n += 1\n",
    "empirical_std = sqrt(acc / (n-1))\n",
    "print('empirical standard deviation: {:.3f}'.format(empirical_std))"
   ]
  },
  {
   "cell_type": "markdown",
   "metadata": {},
   "source": [
    "# 1.4)"
   ]
  },
  {
   "cell_type": "markdown",
   "metadata": {},
   "source": [
    "- 1: c\n",
    "- 2: a\n",
    "- 3: b"
   ]
  },
  {
   "cell_type": "markdown",
   "metadata": {},
   "source": [
    "# 1.5)\n",
    "## a)"
   ]
  },
  {
   "cell_type": "code",
   "execution_count": 4,
   "metadata": {},
   "outputs": [
    {
     "data": {
      "image/png": "[encoded data removed]",
      "text/plain": [
       "<Figure size 1152x576 with 3 Axes>"
      ]
     },
     "metadata": {
      "needs_background": "light"
     },
     "output_type": "display_data"
    }
   ],
   "source": [
    "import numpy as np\n",
    "import pandas as pd\n",
    "import matplotlib\n",
    "import matplotlib.pyplot as plt\n",
    "\n",
    "matplotlib.rcParams['figure.figsize'] = [16, 8]\n",
    "\n",
    "geysir = pd.read_csv('geysir.csv', sep=' ', index_col=0)\n",
    "geysir.head()\n",
    "\n",
    "plt.subplot(221)\n",
    "geysir['Zeitspanne'].plot(kind='hist', edgecolor='black')\n",
    "plt.xlabel('10 Klassen') # default: 10\n",
    "\n",
    "plt.subplot(222)\n",
    "geysir['Zeitspanne'].plot(kind='hist', bins=20, edgecolor='black')\n",
    "plt.xlabel('20 Klassen')\n",
    "\n",
    "plt.subplot(223)\n",
    "geysir['Zeitspanne'].plot(kind='hist', bins=np.arange(41, 107, 11), edgecolor='black')\n",
    "plt.xlabel('Klassengrenzen 41, 52, 63, 74, 85, 96')\n",
    "\n",
    "plt.show()"
   ]
  },
  {
   "cell_type": "markdown",
   "metadata": {},
   "source": [
    "- Mit weniger Klassen lassen sich grobe Trends einfacher erkennen.\n",
    "- Mit mehr Klassen sind feine Trends sichtbar, die mit weniger Klassen untergehen."
   ]
  },
  {
   "cell_type": "markdown",
   "metadata": {},
   "source": [
    "## b)"
   ]
  },
  {
   "cell_type": "code",
   "execution_count": 5,
   "metadata": {},
   "outputs": [
    {
     "data": {
      "image/png": "[encoded data removed]",
      "text/plain": [
       "<Figure size 1152x576 with 3 Axes>"
      ]
     },
     "metadata": {
      "needs_background": "light"
     },
     "output_type": "display_data"
    }
   ],
   "source": [
    "t_eruption = geysir['Eruptionsdauer']\n",
    "\n",
    "for params in [(221, 10), (222, 20), (223, 5)]:\n",
    "    plt.subplot(params[0])\n",
    "    t_eruption.plot(kind='hist', bins=params[1], edgecolor='black')\n",
    "    plt.xlabel('{} Klassen'.format(params[1]))\n",
    "plt.show()"
   ]
  },
  {
   "cell_type": "markdown",
   "metadata": {},
   "source": [
    "- Viele Messpunkte liegen bei den Extremen, nicht in der Mitte (wie bei der Zeitspanne).\n",
    "- Die wichtigsten Trends (Konzentration an den Extremen) sind auf allen Plots etwa gleich gut ersichtlich."
   ]
  },
  {
   "cell_type": "markdown",
   "metadata": {},
   "source": [
    "## c)"
   ]
  },
  {
   "cell_type": "code",
   "execution_count": 6,
   "metadata": {},
   "outputs": [
    {
     "data": {
      "image/png": "[encoded data removed]",
      "text/plain": [
       "<Figure size 1152x576 with 1 Axes>"
      ]
     },
     "metadata": {
      "needs_background": "light"
     },
     "output_type": "display_data"
    }
   ],
   "source": [
    "# normed=True is deprecated, use density instead\n",
    "t_eruption.plot(kind='hist', density=True, cumulative=True, edgecolor='black')\n",
    "plt.show()"
   ]
  },
  {
   "cell_type": "markdown",
   "metadata": {},
   "source": [
    "- maximal 2 Minuten: ca. 25%\n",
    "- Dauer der 60% längsten Eruptionen: 4-5 Minuten"
   ]
  }
 ],
 "metadata": {
  "kernelspec": {
   "display_name": "Python 3",
   "language": "python",
   "name": "python3"
  },
  "language_info": {
   "codemirror_mode": {
    "name": "ipython",
    "version": 3
   },
   "file_extension": ".py",
   "mimetype": "text/x-python",
   "name": "python",
   "nbconvert_exporter": "python",
   "pygments_lexer": "ipython3",
   "version": "3.7.2"
  }
 },
 "nbformat": 4,
 "nbformat_minor": 2
}
