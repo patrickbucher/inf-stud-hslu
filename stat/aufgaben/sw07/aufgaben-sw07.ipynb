{
 "cells": [
  {
   "cell_type": "markdown",
   "metadata": {},
   "source": [
    "# 7.1\n",
    "\n",
    "## a)"
   ]
  },
  {
   "cell_type": "code",
   "execution_count": 21,
   "metadata": {},
   "outputs": [
    {
     "name": "stdout",
     "output_type": "stream",
     "text": [
      "confidence interval: [201.531,217.810]\n"
     ]
    }
   ],
   "source": [
    "import numpy as np\n",
    "\n",
    "sample = np.loadtxt('oldfaithful')\n",
    "n = sample.size\n",
    "\n",
    "n_boot = 1000\n",
    "bootstrap_data = np.random.choice(sample, n*n_boot, replace=True)\n",
    "bootstrap_samples = np.reshape(bootstrap_data, (n, n_boot))\n",
    "column_means = bootstrap_samples.mean(axis=0)\n",
    "\n",
    "a = 0.05\n",
    "boundaries = [a/2*100, (1-a/2)*100] # here: [2.5%, 97.5%]\n",
    "confidence_interval = np.percentile(column_means, q=boundaries)\n",
    "lower, upper = confidence_interval[0], confidence_interval[1]\n",
    "print('confidence interval: [{:.3f},{:.3f}]'.format(lower, upper))"
   ]
  },
  {
   "cell_type": "markdown",
   "metadata": {},
   "source": [
    "## b)"
   ]
  },
  {
   "cell_type": "code",
   "execution_count": 22,
   "metadata": {},
   "outputs": [
    {
     "name": "stdout",
     "output_type": "stream",
     "text": [
      "confidence interval: [201.071,217.820]\n"
     ]
    }
   ],
   "source": [
    "import numpy as np\n",
    "\n",
    "sample = np.loadtxt('oldfaithful')\n",
    "n = sample.size\n",
    "\n",
    "n_boot = 1000\n",
    "bootstrap_data = np.random.choice(sample, n*n_boot, replace=True)\n",
    "bootstrap_samples = np.reshape(bootstrap_data, (n, n_boot))\n",
    "column_means = bootstrap_samples.mean(axis=0)\n",
    "\n",
    "a = 0.05\n",
    "boundaries = [a/2*100, (1-a/2)*100] # here: [2.5%, 97.5%]\n",
    "\n",
    "# interesting part: difference to a)\n",
    "delta_mean = column_means - sample.mean()\n",
    "percentiles = np.percentile(delta_mean, q=boundaries)\n",
    "confidence_interval = sample.mean() - [percentiles[1], percentiles[0]]\n",
    "\n",
    "lower, upper = confidence_interval[0], confidence_interval[1]\n",
    "print('confidence interval: [{:.3f},{:.3f}]'.format(lower, upper))"
   ]
  },
  {
   "cell_type": "markdown",
   "metadata": {},
   "source": [
    "## c)\n",
    "\n",
    "$$ P(|\\overline{x}-\\mu| > 5) $$"
   ]
  },
  {
   "cell_type": "code",
   "execution_count": 25,
   "metadata": {},
   "outputs": [
    {
     "name": "stdout",
     "output_type": "stream",
     "text": [
      "P(|x-μ|>5)=0.204\n"
     ]
    }
   ],
   "source": [
    "import numpy as np\n",
    "\n",
    "sample = np.loadtxt('oldfaithful')\n",
    "n = sample.size\n",
    "\n",
    "n_boot = 1000\n",
    "bootstrap_data = np.random.choice(sample, n*n_boot, replace=True)\n",
    "bootstrap_samples = np.reshape(bootstrap_data, (n, n_boot))\n",
    "column_means = bootstrap_samples.mean(axis=0)\n",
    "delta_mean = column_means - sample.mean()\n",
    "\n",
    "lower, upper = np.sum(delta_mean < -5), np.sum(delta_mean > 5)\n",
    "ratio = (lower+upper)/n_boot\n",
    "print('P(|x-μ|>5)={:.3f}'.format(ratio))"
   ]
  },
  {
   "cell_type": "markdown",
   "metadata": {},
   "source": [
    "# 7.2\n",
    "\n",
    "$$ X \\sim \\mathcal{U}([0,10]) $$\n",
    "\n",
    "## a)\n",
    "\n",
    "$e$ gesucht, sodass:\n",
    "\n",
    "$$ I = [\\mu_x - e, \\mu_x + e], n=60, P=95\\% $$\n",
    "\n",
    "Parameter der Verteilung:\n",
    "\n",
    "$$ \\mu_x=E(X)=\\frac{a+b}{2}=\\frac{0+10}{2}=5 $$\n",
    "\n",
    "$$ \\sigma_x = \\sqrt{Var(X)} = \\sqrt{\\frac{(b-a)^2}{12}} = \\frac{5}{\\sqrt{3}} $$\n",
    "\n",
    "$$ \\overline{X}_n \\sim \\mathcal{N}(\\mu_x, \\frac{\\sigma_x^2}{n}) $$\n",
    "\n",
    "Standardisierte Zufallsvariable $Z_n \\sim \\mathcal{N}(0,1)$:\n",
    "\n",
    "$$ Z_n = \\frac{\\overline{X}_n - \\mu_x}{\\frac{\\sigma_x}{\\sqrt{n}}} $$\n",
    "\n",
    "Gegebene Wahrscheinlichkeit:\n",
    "\n",
    "$$ P(\\mu_x - e \\leq \\overline{X}_n \\leq \\mu_x + e) = 95\\% $$\n",
    "\n",
    "Standardisiert, gesuchtes Intervall ($\\mu_x$ von $\\mathcal{N}(0,1)$ beträgt $0$):\n",
    "\n",
    "$$  P\\Big(0-\\frac{e}{\\frac{\\sigma_x}{\\sqrt{n}}} \\leq \\overline{Z}_n \\leq 0+\\frac{e}{\\frac{\\sigma_x}{\\sqrt{n}}}\\Big) = 95\\% $$ \n",
    "\n",
    "$95\\%$ der Fläche der Standardnormalverteilung, die beiden $x$ berechnen:"
   ]
  },
  {
   "cell_type": "code",
   "execution_count": 9,
   "metadata": {},
   "outputs": [
    {
     "name": "stdout",
     "output_type": "stream",
     "text": [
      "[-1.96, 1.96]\n"
     ]
    }
   ],
   "source": [
    "from scipy.stats import norm\n",
    "\n",
    "lower = norm.ppf(q=0.05/2, loc=0, scale=1)\n",
    "upper = norm.ppf(q=1-0.05/2, loc=0, scale=1)\n",
    "print('[{:.2f}, {:.2f}]'.format(lower, upper))"
   ]
  },
  {
   "cell_type": "markdown",
   "metadata": {},
   "source": [
    "Einsetzen und Gleichung aufstellen um $e$ zu ermitteln (mit ermitteltem $\\sigma_x$):\n",
    "\n",
    "$$ \\overline{Z}_n = \\frac{e}{\\frac{\\sigma_x}{\\sqrt{n}}} = \\frac{e}{\\frac{5}{\\sqrt{3n}}} = \\frac{e\\sqrt{3n}}{5} = 1.96 $$\n",
    "\n",
    "$$ e = \\frac{5 \\cdot 1.96}{\\sqrt{3n}}, n=60, e = \\frac{5 \\cdot 1.96}{\\sqrt{180}} = 0.73 $$\n",
    "\n",
    "Intervall:\n",
    "\n",
    "$$ \\underline{\\underline{I=[5-0.73,5+0.73]}} $$ (mit einer Wahrscheinlichkeit von $95\\%$)"
   ]
  },
  {
   "cell_type": "markdown",
   "metadata": {},
   "source": [
    "## b)\n",
    "\n",
    "$e=0.2$, aus a) bekannt:\n",
    "\n",
    "$$ \\frac{e\\sqrt{3n}}{5} = 1.96$$\n",
    "\n",
    "umformen:\n",
    "\n",
    "$$\\underline{\\underline{n}} = \\frac{(5 \\cdot 1.96)^2}{e \\cdot 3} = \\underline{\\underline{800}} $$"
   ]
  },
  {
   "cell_type": "markdown",
   "metadata": {},
   "source": [
    "## c)"
   ]
  },
  {
   "cell_type": "code",
   "execution_count": 3,
   "metadata": {},
   "outputs": [
    {
     "data": {
      "image/png": "[encoded data removed]",
      "text/plain": [
       "<Figure size 1152x576 with 1 Axes>"
      ]
     },
     "metadata": {
      "needs_background": "light"
     },
     "output_type": "display_data"
    },
    {
     "name": "stdout",
     "output_type": "stream",
     "text": [
      "P=95.0%\n"
     ]
    }
   ],
   "source": [
    "from math import sqrt\n",
    "import numpy as np\n",
    "from scipy.stats import uniform, norm\n",
    "import matplotlib.pyplot as plt\n",
    "import matplotlib\n",
    "\n",
    "matplotlib.rcParams['figure.figsize'] = [16, 8]\n",
    "\n",
    "size = 200\n",
    "n = 60\n",
    "#sim = norm.rvs(size=size*n, loc=5, scale=5/sqrt(3))\n",
    "sim = uniform.rvs(size=size*n, loc=0, scale=10)\n",
    "sim = sim.reshape(size, n)\n",
    "sim_mean = sim.mean(axis=1)\n",
    "plt.plot(np.arange(1, size+1, 1), sim_mean, 'r.')\n",
    "bounds = [5-0.73, 5+0.73]\n",
    "plt.axhline(y=bounds[0])\n",
    "plt.axhline(y=bounds[1])\n",
    "plt.show()\n",
    "\n",
    "within = sim_mean[(sim_mean > bounds[0]) & (sim_mean < bounds[1])].size\n",
    "total = sim_mean.size\n",
    "rate = within/total\n",
    "print('P={:.1f}%'.format(rate*100))"
   ]
  },
  {
   "cell_type": "markdown",
   "metadata": {},
   "source": [
    "# 7.3\n",
    "\n",
    "$$ X \\sim \\mathcal{N}(\\mu, \\sigma^2) $$\n",
    "\n",
    "## a)\n",
    "\n",
    "gegeben: $n=10, \\overline{x}_n=31ppb, \\sigma=6ppb, I: 99\\%$\n",
    "\n",
    "Standardabweichung bekannt:\n",
    "\n",
    "$$ I=\\Big[\\overline{x}_{10}+z_{0.005}\\cdot\\frac{\\sigma_x}{\\sqrt{n}},\\overline{x}_{10}+z_{0.995}\\cdot\\frac{\\sigma_x}{\\sqrt{n}}\\Big]  $$"
   ]
  },
  {
   "cell_type": "code",
   "execution_count": 4,
   "metadata": {},
   "outputs": [
    {
     "name": "stdout",
     "output_type": "stream",
     "text": [
      "-2.576, 2.576\n"
     ]
    }
   ],
   "source": [
    "from scipy.stats import norm\n",
    "\n",
    "n = 10\n",
    "z0005 = norm.ppf(q=0.005, loc=0, scale=1)\n",
    "z0995 = norm.ppf(q=0.995, loc=0, scale=1)\n",
    "print('{:.3f}, {:.3f}'.format(z0005, z0995))"
   ]
  },
  {
   "cell_type": "markdown",
   "metadata": {},
   "source": [
    "$$ z_{0.005} \\cdot \\frac{\\sigma_x}{\\sqrt{n}} = -2.576 \\cdot \\frac{6}{\\sqrt{10}} = -4.89 $$\n",
    "\n",
    "$$ z_{0.995} \\cdot \\frac{\\sigma_x}{\\sqrt{n}} = +2.576 \\cdot \\frac{6}{\\sqrt{10}} = +4.89 $$\n",
    "\n",
    "$$ \\underline{\\underline{I}} = [31 - 4.89, 31 + 4.89] = \\underline{\\underline{[26.11, 35.89]}} $$"
   ]
  },
  {
   "cell_type": "code",
   "execution_count": 10,
   "metadata": {},
   "outputs": [
    {
     "data": {
      "text/plain": [
       "(26.112707522188142, 35.887292477811854)"
      ]
     },
     "execution_count": 10,
     "metadata": {},
     "output_type": "execute_result"
    }
   ],
   "source": [
    "from math import sqrt\n",
    "\n",
    "norm.interval(alpha=0.99, loc=31, scale=6/sqrt(n))"
   ]
  },
  {
   "cell_type": "markdown",
   "metadata": {},
   "source": [
    "## b)\n",
    "\n",
    "gesucht: $n_2$, sodass $I=[31 - \\frac{4.89}{2}, 31 + \\frac{4.89}{2}]$ (halbes Intervall)\n",
    "\n",
    "$$ \\frac{4.89}{2} = z_{0.995} \\cdot \\frac{\\sigma_x}{\\sqrt{n_2}} = 2.576 \\cdot \\frac{6}{\\sqrt{n_2}} \\Leftrightarrow \\underline{\\underline{n_2}} = \\Big(\\frac{2 \\cdot 2.576 \\cdot 6}{4.89}\\Big)^2 = 39.96 \\approx \\underline{\\underline{40}} $$\n",
    "\n",
    "gesucht: $n_3$, sodass $I=[31-0.5,31+0.5]$ (Intervall $1ppb$)\n",
    "\n",
    "$$ \\frac{1}{2} = z_{0.995} \\cdot \\frac{\\sigma_x}{\\sqrt{n_2}} = 2.576 \\cdot \\frac{6}{\\sqrt{n_3}} \\Leftrightarrow \\underline{\\underline{n_3}} = (2.576 \\cdot 6 \\cdot 2)^2 = 955.5 \\approx \\underline{\\underline{956}} $$"
   ]
  },
  {
   "cell_type": "markdown",
   "metadata": {},
   "source": [
    "## c)\n",
    "\n",
    "gegeben: $\\hat{\\sigma}=6$\n",
    "\n",
    "geschätzte Standardabweichung aus der Stichprobe: t-Verteilung mit $n-1$ Freiheitsgraden!"
   ]
  },
  {
   "cell_type": "code",
   "execution_count": 2,
   "metadata": {},
   "outputs": [
    {
     "name": "stdout",
     "output_type": "stream",
     "text": [
      "-3.250, 3.250\n"
     ]
    }
   ],
   "source": [
    "from scipy.stats import t\n",
    "\n",
    "n = 10\n",
    "z0005 = t.ppf(q=0.005, df=n-1)\n",
    "z0995 = t.ppf(q=0.995, df=n-1)\n",
    "print('{:.3f}, {:.3f}'.format(z0005, z0995))"
   ]
  },
  {
   "cell_type": "markdown",
   "metadata": {},
   "source": [
    "$$ z_{0.005} \\cdot \\frac{\\hat{\\sigma}}{\\sqrt{n}} = -3.25 \\cdot \\frac{6}{\\sqrt{10}} = -6.17 $$\n",
    "\n",
    "$$ z_{0.995} \\cdot \\frac{\\hat{\\sigma}}{\\sqrt{n}} = +3.25 \\cdot \\frac{6}{\\sqrt{10}} = +6.17 $$\n",
    "\n",
    "$$ \\underline{\\underline{I}} = [31 - 6.17, 31 + 6.17] = \\underline{\\underline{[24.83, 37.17]}} $$\n",
    "\n",
    "$$ I_{a)} = 35.89-26.11 = 9.78, I_{b)} = 37.17-24.83 = 12.34, \\frac{12.34-9.78}{9.78} = 0.26 \\approx 26 \\% $$\n",
    "\n",
    "Das Intervall wurde um ca $26\\%$ grösser."
   ]
  },
  {
   "cell_type": "code",
   "execution_count": 3,
   "metadata": {},
   "outputs": [
    {
     "data": {
      "text/plain": [
       "(24.833870595963425, 37.166129404036575)"
      ]
     },
     "execution_count": 3,
     "metadata": {},
     "output_type": "execute_result"
    }
   ],
   "source": [
    "from math import sqrt\n",
    "\n",
    "t.interval(alpha=0.99, df=n-1, loc=31, scale=6/sqrt(n))"
   ]
  },
  {
   "cell_type": "markdown",
   "metadata": {},
   "source": [
    "# 7.4\n",
    "\n",
    "gegeben: $n=9,\\overline{x}_n=-403\\mu g,\\hat{\\sigma}_x=3.127\\mu g$\n",
    "\n",
    "## a)\n",
    "\n",
    "gegeben: $X \\sim \\mathcal{N}(\\mu, \\sigma_x^2), \\alpha=95\\%$\n",
    "\n",
    "wahres $\\sigma$ unbekannt: t-Verteilung!\n",
    "\n",
    "$$ I = \\Big[ \\overline{x}_n + z_{\\frac{1-\\alpha}{2}} \\cdot \\frac{\\hat{\\sigma}_x}{\\sqrt{n}}, \\overline{x}_n + z_{\\alpha+\\frac{1-\\alpha}{2}} \\cdot \\frac{\\hat{\\sigma}_x}{\\sqrt{n}}  \\Big] $$\n",
    "\n",
    "$$ z_{\\frac{1-\\alpha}{2}} = z_{0.025}, z_{\\alpha+\\frac{1-\\alpha}{2}} = z_{0.975} $$\n",
    "\n"
   ]
  },
  {
   "cell_type": "code",
   "execution_count": 3,
   "metadata": {},
   "outputs": [
    {
     "name": "stdout",
     "output_type": "stream",
     "text": [
      "-2.306, 2.306\n"
     ]
    }
   ],
   "source": [
    "from scipy.stats import t\n",
    "\n",
    "n = 9\n",
    "alpha = 0.95\n",
    "\n",
    "z0025 = t.ppf(q=(1-alpha)/2, df=n-1)\n",
    "z0975 = t.ppf(q=alpha+(1-alpha)/2, df=n-1)\n",
    "print('{:.3f}, {:.3f}'.format(z0025, z0975))"
   ]
  },
  {
   "cell_type": "markdown",
   "metadata": {},
   "source": [
    "$$ \\pm 2.306 \\cdot \\frac{\\hat{\\sigma}_x}{\\sqrt{n}} = 2.306 \\cdot \\frac{3.127\\mu g}{\\sqrt{9}} = \\pm 2.404 \\mu g $$\n",
    "\n",
    "$$ \\underline{\\underline{I = [-405.4 \\mu g, -400.6 \\mu g]}} $$"
   ]
  },
  {
   "cell_type": "code",
   "execution_count": 4,
   "metadata": {},
   "outputs": [
    {
     "data": {
      "text/plain": [
       "(-405.40362497674977, -400.59637502325023)"
      ]
     },
     "execution_count": 4,
     "metadata": {},
     "output_type": "execute_result"
    }
   ],
   "source": [
    "from math import sqrt\n",
    "\n",
    "t.interval(alpha=0.95, df=8, loc=-403, scale=3.127/sqrt(9))"
   ]
  },
  {
   "cell_type": "markdown",
   "metadata": {},
   "source": [
    "## b)\n",
    "\n",
    "Da $-400.0\\mu g$ nicht in einem Vertrauensintervall von $95\\%$ liegt, würde die Nullhypothese $H_0$ zugunsten der Alternativhypothese $H_A$ verworfen werden.\n",
    "\n",
    "Die Wahrscheinlichkeit, dass die wahre Differenz $-400.0\\mu g$ beträgt, liegt ca. bei $1\\%$:\n",
    "\n",
    "$$ 403\\mu g - 400\\mu g = 3 \\mu g$$\n",
    "\n",
    "$$ z \\cdot \\frac{3.127\\mu g}{\\sqrt{9}} = 3 \\mu g \\Leftrightarrow z = \\frac{3\\mu g\\sqrt{9}}{3.127\\mu g} $$"
   ]
  },
  {
   "cell_type": "code",
   "execution_count": 5,
   "metadata": {},
   "outputs": [
    {
     "data": {
      "text/plain": [
       "0.010284811560763774"
      ]
     },
     "execution_count": 5,
     "metadata": {},
     "output_type": "execute_result"
    }
   ],
   "source": [
    "z = (3 * sqrt(9)) / 3.127\n",
    "1-t.cdf(x=z, df=8)"
   ]
  },
  {
   "cell_type": "markdown",
   "metadata": {},
   "source": [
    "# 7.5\n",
    "\n",
    "$$ X = [520, 512, 499, 524, 505], n=5, \\overline{x}_5=512, s_x^2=106.5 $$\n",
    "\n",
    "$$ X \\sim \\mathcal{N}(\\mu, \\sigma^2) $$\n",
    "\n",
    "## a)\n",
    "\n",
    "$H_0: \\mu=500$: Es handelt sich um die älteren, weniger sicheren Schrauben\n",
    "\n",
    "$H_A: \\mu>500$: Es handelt sich um die neueren, sichereren Schrauben\n",
    "\n",
    "Begründung: Zweifel als Grundhaltung! Solange man sich nicht mit hoher Wahrscheinlichkeit von der verbesserten Qualität der Schrauben hat überzeugen können, gelten die Schrauben als unsicher und werden _nicht_ verbaut.\n",
    "\n",
    "## b)\n",
    "\n",
    "t-Test mit $\\alpha=0.05$\n",
    "\n",
    "$$ X \\sim \\mathcal{t}(\\mu_x, \\frac{s_x^2}{\\sqrt{n}}) $$\n",
    "\n",
    "**Entgegen Teilaufgabe a) lauten die Hypothesen hier:**\n",
    "\n",
    "$H_0$: Es handelt sich um die sicheren Schrauben\n",
    "\n",
    "$H_A$: Es handelt sich um die unsicheren Schrauben"
   ]
  },
  {
   "cell_type": "code",
   "execution_count": 30,
   "metadata": {},
   "outputs": [
    {
     "name": "stdout",
     "output_type": "stream",
     "text": [
      "Verwerfungsbereich: [509.839,∞)\n",
      "Mean der Stichprobe: 512.000\n"
     ]
    }
   ],
   "source": [
    "import numpy as np\n",
    "from scipy.stats import t\n",
    "\n",
    "sample = np.array([520, 512, 499, 524, 505])\n",
    "n = sample.size\n",
    "var = sample.std(ddof=1)**2\n",
    "std = np.sqrt(var)\n",
    "\n",
    "x0 = t.ppf(q=0.95, df=n-1, loc=500, scale=std/np.sqrt(n))\n",
    "print('Verwerfungsbereich: [{:.3f},∞)'.format(x0))\n",
    "print('Mean der Stichprobe: {:.3f}'.format(sample.mean()))"
   ]
  },
  {
   "cell_type": "markdown",
   "metadata": {},
   "source": [
    "$H_0$ wird verworfen, es handelt sich wohl um die sicheren Schrauben.\n",
    "\n",
    "## c)"
   ]
  },
  {
   "cell_type": "code",
   "execution_count": 26,
   "metadata": {},
   "outputs": [
    {
     "data": {
      "text/plain": [
       "(499.1861719188852, 524.8138280811148)"
      ]
     },
     "execution_count": 26,
     "metadata": {},
     "output_type": "execute_result"
    }
   ],
   "source": [
    "t.interval(alpha=0.95, df=n-1, loc=sample.mean(), scale=std/np.sqrt(n))"
   ]
  },
  {
   "cell_type": "markdown",
   "metadata": {},
   "source": [
    "## d)\n",
    "\n",
    "$\\sigma=s_x^2=106.5$: Normalverteilung statt t-Verteilung!"
   ]
  },
  {
   "cell_type": "code",
   "execution_count": 27,
   "metadata": {},
   "outputs": [
    {
     "data": {
      "text/plain": [
       "(502.95438930304954, 521.0456106969505)"
      ]
     },
     "execution_count": 27,
     "metadata": {},
     "output_type": "execute_result"
    }
   ],
   "source": [
    "from scipy.stats import norm\n",
    "\n",
    "norm.interval(alpha=0.95, loc=sample.mean(), scale=std/np.sqrt(n))"
   ]
  },
  {
   "cell_type": "markdown",
   "metadata": {},
   "source": [
    "## e)\n",
    "\n",
    "$$ H_0: \\mu=0, H_A: \\mu > 0, \\alpha=0.05 $$\n",
    "\n",
    "- Man verwirft $H_0$ für kein Niveau $\\alpha < 0.05$: richtig\n",
    "- Es gibt ein Niveau $\\alpha < 1$, bei dem man $H_0$ verwirft: richtig\n",
    "- Der $p$-Wert ist strikt kleiner als $0.5$: richtig\n",
    "- Führt man statt eines einseitigen einen zweiseitigen Test zum Niveau 0.05 durch, verwirft man $H_0$ nicht: richtig\n",
    "- Wenn man die Daten immer öfter kopiert (d.h., man betrachtet jeden Datenpunkt $k$-Mal, so dass man insgesamt $k \\cdot n$ Datenpunkte erhält), verwirft man $H_0$ für ein grosses $k$ beim Niveau $0.05$: richtig"
   ]
  }
 ],
 "metadata": {
  "kernelspec": {
   "display_name": "Python 3",
   "language": "python",
   "name": "python3"
  },
  "language_info": {
   "codemirror_mode": {
    "name": "ipython",
    "version": 3
   },
   "file_extension": ".py",
   "mimetype": "text/x-python",
   "name": "python",
   "nbconvert_exporter": "python",
   "pygments_lexer": "ipython3",
   "version": "3.7.3"
  }
 },
 "nbformat": 4,
 "nbformat_minor": 2
}
